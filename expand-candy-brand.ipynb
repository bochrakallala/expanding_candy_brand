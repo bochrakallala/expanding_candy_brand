{
 "cells": [
  {
   "cell_type": "markdown",
   "metadata": {
    "_cell_guid": "b1076dfc-b9ad-4769-8c92-a6c4dae69d19",
    "_uuid": "8f2839f25d086af736a60e9eeb907d3b93b6e0e5",
    "papermill": {
     "duration": 0.039986,
     "end_time": "2022-01-12T23:51:29.859692",
     "exception": false,
     "start_time": "2022-01-12T23:51:29.819706",
     "status": "completed"
    },
    "tags": []
   },
   "source": [
    "# Case Study: Expanding Candy brand¶\n"
   ]
  },
  {
   "cell_type": "markdown",
   "metadata": {
    "papermill": {
     "duration": 0.038959,
     "end_time": "2022-01-12T23:51:29.941850",
     "exception": false,
     "start_time": "2022-01-12T23:51:29.902891",
     "status": "completed"
    },
    "tags": []
   },
   "source": [
    "![candy_image](https://worldstrides.com/wp-content/uploads/2020/10/AdobeStock_170707235_main-min.jpg)"
   ]
  },
  {
   "cell_type": "markdown",
   "metadata": {
    "execution": {
     "iopub.execute_input": "2022-01-09T18:21:29.143937Z",
     "iopub.status.busy": "2022-01-09T18:21:29.143643Z",
     "iopub.status.idle": "2022-01-09T18:21:29.156801Z",
     "shell.execute_reply": "2022-01-09T18:21:29.155576Z",
     "shell.execute_reply.started": "2022-01-09T18:21:29.143907Z"
    },
    "papermill": {
     "duration": 0.040181,
     "end_time": "2022-01-12T23:51:30.022818",
     "exception": false,
     "start_time": "2022-01-12T23:51:29.982637",
     "status": "completed"
    },
    "tags": []
   },
   "source": [
    "## Context\n",
    "The Lidl purchasing group wants to expand their candy offering. These are store brand candies that we sell along the brand offerings. The idea is to create a brand-new product. The team is discussing various options now.\n",
    "Some prefer cookie-based sweets while others think that it should be gummies. The Divisional Director responsible for purchasing has decided to use a more data-driven approach. He contracted with a market research group to collect data on products in the market and their characteristics and customer sentiment.\n",
    "The Goal is to find out which product characteristics drive customer sentiment and subsequently make a recommendation on a new product."
   ]
  },
  {
   "cell_type": "markdown",
   "metadata": {
    "papermill": {
     "duration": 0.038468,
     "end_time": "2022-01-12T23:51:30.103390",
     "exception": false,
     "start_time": "2022-01-12T23:51:30.064922",
     "status": "completed"
    },
    "tags": []
   },
   "source": [
    "## Data\n",
    "The data set is located (incl. a short description) here:\n",
    "https://github.com/fivethirtyeight/data/tree/master/candy-power-ranking\n",
    "\n",
    "The data set is provided by FiveThirtyEight under the Creative Commons Attribution 4.0 International license (https://creativecommons.org/licenses/by/4.0/)"
   ]
  },
  {
   "cell_type": "code",
   "execution_count": 1,
   "metadata": {
    "execution": {
     "iopub.execute_input": "2022-01-12T23:51:30.186093Z",
     "iopub.status.busy": "2022-01-12T23:51:30.184818Z",
     "iopub.status.idle": "2022-01-12T23:51:33.433251Z",
     "shell.execute_reply": "2022-01-12T23:51:33.434035Z",
     "shell.execute_reply.started": "2022-01-12T23:47:33.506085Z"
    },
    "papermill": {
     "duration": 3.291959,
     "end_time": "2022-01-12T23:51:33.434436",
     "exception": false,
     "start_time": "2022-01-12T23:51:30.142477",
     "status": "completed"
    },
    "tags": []
   },
   "outputs": [],
   "source": [
    "# Import required modules\n",
    "import math\n",
    "import itertools\n",
    "import numpy as np\n",
    "import pandas as pd\n",
    "import seaborn as sns\n",
    "from collections import Counter\n",
    "import matplotlib.pyplot as plt\n",
    "plt.rcParams['font.family'] = \"serif\"\n",
    "from sklearn.cluster import KMeans\n",
    "from pandas_profiling import ProfileReport\n",
    "from sklearn.metrics import mean_squared_error\n",
    "from yellowbrick.cluster import KElbowVisualizer\n",
    "from sklearn.model_selection import GridSearchCV\n",
    "from sklearn.ensemble import RandomForestRegressor\n",
    "from sklearn.model_selection import train_test_split\n"
   ]
  },
  {
   "cell_type": "code",
   "execution_count": 2,
   "metadata": {
    "execution": {
     "iopub.execute_input": "2022-01-12T23:51:33.514985Z",
     "iopub.status.busy": "2022-01-12T23:51:33.514001Z",
     "iopub.status.idle": "2022-01-12T23:51:33.581779Z",
     "shell.execute_reply": "2022-01-12T23:51:33.582323Z",
     "shell.execute_reply.started": "2022-01-12T23:47:36.271741Z"
    },
    "papermill": {
     "duration": 0.109231,
     "end_time": "2022-01-12T23:51:33.582506",
     "exception": false,
     "start_time": "2022-01-12T23:51:33.473275",
     "status": "completed"
    },
    "tags": []
   },
   "outputs": [
    {
     "data": {
      "text/html": [
       "<div>\n",
       "<style scoped>\n",
       "    .dataframe tbody tr th:only-of-type {\n",
       "        vertical-align: middle;\n",
       "    }\n",
       "\n",
       "    .dataframe tbody tr th {\n",
       "        vertical-align: top;\n",
       "    }\n",
       "\n",
       "    .dataframe thead th {\n",
       "        text-align: right;\n",
       "    }\n",
       "</style>\n",
       "<table border=\"1\" class=\"dataframe\">\n",
       "  <thead>\n",
       "    <tr style=\"text-align: right;\">\n",
       "      <th></th>\n",
       "      <th>0</th>\n",
       "      <th>1</th>\n",
       "      <th>2</th>\n",
       "      <th>3</th>\n",
       "      <th>4</th>\n",
       "      <th>5</th>\n",
       "      <th>6</th>\n",
       "      <th>7</th>\n",
       "      <th>8</th>\n",
       "      <th>9</th>\n",
       "      <th>...</th>\n",
       "      <th>75</th>\n",
       "      <th>76</th>\n",
       "      <th>77</th>\n",
       "      <th>78</th>\n",
       "      <th>79</th>\n",
       "      <th>80</th>\n",
       "      <th>81</th>\n",
       "      <th>82</th>\n",
       "      <th>83</th>\n",
       "      <th>84</th>\n",
       "    </tr>\n",
       "  </thead>\n",
       "  <tbody>\n",
       "    <tr>\n",
       "      <th>competitorname</th>\n",
       "      <td>100 Grand</td>\n",
       "      <td>3 Musketeers</td>\n",
       "      <td>One dime</td>\n",
       "      <td>One quarter</td>\n",
       "      <td>Air Heads</td>\n",
       "      <td>Almond Joy</td>\n",
       "      <td>Baby Ruth</td>\n",
       "      <td>Boston Baked Beans</td>\n",
       "      <td>Candy Corn</td>\n",
       "      <td>Caramel Apple Pops</td>\n",
       "      <td>...</td>\n",
       "      <td>Tootsie Roll Juniors</td>\n",
       "      <td>Tootsie Roll Midgies</td>\n",
       "      <td>Tootsie Roll Snack Bars</td>\n",
       "      <td>Trolli Sour Bites</td>\n",
       "      <td>Twix</td>\n",
       "      <td>Twizzlers</td>\n",
       "      <td>Warheads</td>\n",
       "      <td>WelchÕs Fruit Snacks</td>\n",
       "      <td>WertherÕs Original Caramel</td>\n",
       "      <td>Whoppers</td>\n",
       "    </tr>\n",
       "    <tr>\n",
       "      <th>chocolate</th>\n",
       "      <td>1</td>\n",
       "      <td>1</td>\n",
       "      <td>0</td>\n",
       "      <td>0</td>\n",
       "      <td>0</td>\n",
       "      <td>1</td>\n",
       "      <td>1</td>\n",
       "      <td>0</td>\n",
       "      <td>0</td>\n",
       "      <td>0</td>\n",
       "      <td>...</td>\n",
       "      <td>1</td>\n",
       "      <td>1</td>\n",
       "      <td>1</td>\n",
       "      <td>0</td>\n",
       "      <td>1</td>\n",
       "      <td>0</td>\n",
       "      <td>0</td>\n",
       "      <td>0</td>\n",
       "      <td>0</td>\n",
       "      <td>1</td>\n",
       "    </tr>\n",
       "    <tr>\n",
       "      <th>fruity</th>\n",
       "      <td>0</td>\n",
       "      <td>0</td>\n",
       "      <td>0</td>\n",
       "      <td>0</td>\n",
       "      <td>1</td>\n",
       "      <td>0</td>\n",
       "      <td>0</td>\n",
       "      <td>0</td>\n",
       "      <td>0</td>\n",
       "      <td>1</td>\n",
       "      <td>...</td>\n",
       "      <td>0</td>\n",
       "      <td>0</td>\n",
       "      <td>0</td>\n",
       "      <td>1</td>\n",
       "      <td>0</td>\n",
       "      <td>1</td>\n",
       "      <td>1</td>\n",
       "      <td>1</td>\n",
       "      <td>0</td>\n",
       "      <td>0</td>\n",
       "    </tr>\n",
       "    <tr>\n",
       "      <th>caramel</th>\n",
       "      <td>1</td>\n",
       "      <td>0</td>\n",
       "      <td>0</td>\n",
       "      <td>0</td>\n",
       "      <td>0</td>\n",
       "      <td>0</td>\n",
       "      <td>1</td>\n",
       "      <td>0</td>\n",
       "      <td>0</td>\n",
       "      <td>1</td>\n",
       "      <td>...</td>\n",
       "      <td>0</td>\n",
       "      <td>0</td>\n",
       "      <td>0</td>\n",
       "      <td>0</td>\n",
       "      <td>1</td>\n",
       "      <td>0</td>\n",
       "      <td>0</td>\n",
       "      <td>0</td>\n",
       "      <td>1</td>\n",
       "      <td>0</td>\n",
       "    </tr>\n",
       "    <tr>\n",
       "      <th>peanutyalmondy</th>\n",
       "      <td>0</td>\n",
       "      <td>0</td>\n",
       "      <td>0</td>\n",
       "      <td>0</td>\n",
       "      <td>0</td>\n",
       "      <td>1</td>\n",
       "      <td>1</td>\n",
       "      <td>1</td>\n",
       "      <td>0</td>\n",
       "      <td>0</td>\n",
       "      <td>...</td>\n",
       "      <td>0</td>\n",
       "      <td>0</td>\n",
       "      <td>0</td>\n",
       "      <td>0</td>\n",
       "      <td>0</td>\n",
       "      <td>0</td>\n",
       "      <td>0</td>\n",
       "      <td>0</td>\n",
       "      <td>0</td>\n",
       "      <td>0</td>\n",
       "    </tr>\n",
       "    <tr>\n",
       "      <th>nougat</th>\n",
       "      <td>0</td>\n",
       "      <td>1</td>\n",
       "      <td>0</td>\n",
       "      <td>0</td>\n",
       "      <td>0</td>\n",
       "      <td>0</td>\n",
       "      <td>1</td>\n",
       "      <td>0</td>\n",
       "      <td>0</td>\n",
       "      <td>0</td>\n",
       "      <td>...</td>\n",
       "      <td>0</td>\n",
       "      <td>0</td>\n",
       "      <td>0</td>\n",
       "      <td>0</td>\n",
       "      <td>0</td>\n",
       "      <td>0</td>\n",
       "      <td>0</td>\n",
       "      <td>0</td>\n",
       "      <td>0</td>\n",
       "      <td>0</td>\n",
       "    </tr>\n",
       "    <tr>\n",
       "      <th>crispedricewafer</th>\n",
       "      <td>1</td>\n",
       "      <td>0</td>\n",
       "      <td>0</td>\n",
       "      <td>0</td>\n",
       "      <td>0</td>\n",
       "      <td>0</td>\n",
       "      <td>0</td>\n",
       "      <td>0</td>\n",
       "      <td>0</td>\n",
       "      <td>0</td>\n",
       "      <td>...</td>\n",
       "      <td>0</td>\n",
       "      <td>0</td>\n",
       "      <td>0</td>\n",
       "      <td>0</td>\n",
       "      <td>1</td>\n",
       "      <td>0</td>\n",
       "      <td>0</td>\n",
       "      <td>0</td>\n",
       "      <td>0</td>\n",
       "      <td>1</td>\n",
       "    </tr>\n",
       "    <tr>\n",
       "      <th>hard</th>\n",
       "      <td>0</td>\n",
       "      <td>0</td>\n",
       "      <td>0</td>\n",
       "      <td>0</td>\n",
       "      <td>0</td>\n",
       "      <td>0</td>\n",
       "      <td>0</td>\n",
       "      <td>0</td>\n",
       "      <td>0</td>\n",
       "      <td>0</td>\n",
       "      <td>...</td>\n",
       "      <td>0</td>\n",
       "      <td>0</td>\n",
       "      <td>0</td>\n",
       "      <td>0</td>\n",
       "      <td>0</td>\n",
       "      <td>0</td>\n",
       "      <td>1</td>\n",
       "      <td>0</td>\n",
       "      <td>1</td>\n",
       "      <td>0</td>\n",
       "    </tr>\n",
       "    <tr>\n",
       "      <th>bar</th>\n",
       "      <td>1</td>\n",
       "      <td>1</td>\n",
       "      <td>0</td>\n",
       "      <td>0</td>\n",
       "      <td>0</td>\n",
       "      <td>1</td>\n",
       "      <td>1</td>\n",
       "      <td>0</td>\n",
       "      <td>0</td>\n",
       "      <td>0</td>\n",
       "      <td>...</td>\n",
       "      <td>0</td>\n",
       "      <td>0</td>\n",
       "      <td>1</td>\n",
       "      <td>0</td>\n",
       "      <td>1</td>\n",
       "      <td>0</td>\n",
       "      <td>0</td>\n",
       "      <td>0</td>\n",
       "      <td>0</td>\n",
       "      <td>0</td>\n",
       "    </tr>\n",
       "    <tr>\n",
       "      <th>pluribus</th>\n",
       "      <td>0</td>\n",
       "      <td>0</td>\n",
       "      <td>0</td>\n",
       "      <td>0</td>\n",
       "      <td>0</td>\n",
       "      <td>0</td>\n",
       "      <td>0</td>\n",
       "      <td>1</td>\n",
       "      <td>1</td>\n",
       "      <td>0</td>\n",
       "      <td>...</td>\n",
       "      <td>0</td>\n",
       "      <td>1</td>\n",
       "      <td>0</td>\n",
       "      <td>1</td>\n",
       "      <td>0</td>\n",
       "      <td>0</td>\n",
       "      <td>0</td>\n",
       "      <td>1</td>\n",
       "      <td>0</td>\n",
       "      <td>1</td>\n",
       "    </tr>\n",
       "    <tr>\n",
       "      <th>sugarpercent</th>\n",
       "      <td>0.732</td>\n",
       "      <td>0.604</td>\n",
       "      <td>0.011</td>\n",
       "      <td>0.011</td>\n",
       "      <td>0.906</td>\n",
       "      <td>0.465</td>\n",
       "      <td>0.604</td>\n",
       "      <td>0.313</td>\n",
       "      <td>0.906</td>\n",
       "      <td>0.604</td>\n",
       "      <td>...</td>\n",
       "      <td>0.313</td>\n",
       "      <td>0.174</td>\n",
       "      <td>0.465</td>\n",
       "      <td>0.313</td>\n",
       "      <td>0.546</td>\n",
       "      <td>0.22</td>\n",
       "      <td>0.093</td>\n",
       "      <td>0.313</td>\n",
       "      <td>0.186</td>\n",
       "      <td>0.872</td>\n",
       "    </tr>\n",
       "    <tr>\n",
       "      <th>pricepercent</th>\n",
       "      <td>0.86</td>\n",
       "      <td>0.511</td>\n",
       "      <td>0.116</td>\n",
       "      <td>0.511</td>\n",
       "      <td>0.511</td>\n",
       "      <td>0.767</td>\n",
       "      <td>0.767</td>\n",
       "      <td>0.511</td>\n",
       "      <td>0.325</td>\n",
       "      <td>0.325</td>\n",
       "      <td>...</td>\n",
       "      <td>0.511</td>\n",
       "      <td>0.011</td>\n",
       "      <td>0.325</td>\n",
       "      <td>0.255</td>\n",
       "      <td>0.906</td>\n",
       "      <td>0.116</td>\n",
       "      <td>0.116</td>\n",
       "      <td>0.313</td>\n",
       "      <td>0.267</td>\n",
       "      <td>0.848</td>\n",
       "    </tr>\n",
       "    <tr>\n",
       "      <th>winpercent</th>\n",
       "      <td>66.971725</td>\n",
       "      <td>67.602936</td>\n",
       "      <td>32.261086</td>\n",
       "      <td>46.116505</td>\n",
       "      <td>52.341465</td>\n",
       "      <td>50.347546</td>\n",
       "      <td>56.914547</td>\n",
       "      <td>23.417824</td>\n",
       "      <td>38.010963</td>\n",
       "      <td>34.517681</td>\n",
       "      <td>...</td>\n",
       "      <td>43.068897</td>\n",
       "      <td>45.736748</td>\n",
       "      <td>49.653503</td>\n",
       "      <td>47.173229</td>\n",
       "      <td>81.642914</td>\n",
       "      <td>45.466282</td>\n",
       "      <td>39.011898</td>\n",
       "      <td>44.375519</td>\n",
       "      <td>41.904308</td>\n",
       "      <td>49.524113</td>\n",
       "    </tr>\n",
       "  </tbody>\n",
       "</table>\n",
       "<p>13 rows × 85 columns</p>\n",
       "</div>"
      ],
      "text/plain": [
       "                         0             1          2            3          4   \\\n",
       "competitorname    100 Grand  3 Musketeers   One dime  One quarter  Air Heads   \n",
       "chocolate                 1             1          0            0          0   \n",
       "fruity                    0             0          0            0          1   \n",
       "caramel                   1             0          0            0          0   \n",
       "peanutyalmondy            0             0          0            0          0   \n",
       "nougat                    0             1          0            0          0   \n",
       "crispedricewafer          1             0          0            0          0   \n",
       "hard                      0             0          0            0          0   \n",
       "bar                       1             1          0            0          0   \n",
       "pluribus                  0             0          0            0          0   \n",
       "sugarpercent          0.732         0.604      0.011        0.011      0.906   \n",
       "pricepercent           0.86         0.511      0.116        0.511      0.511   \n",
       "winpercent        66.971725     67.602936  32.261086    46.116505  52.341465   \n",
       "\n",
       "                          5          6                   7           8   \\\n",
       "competitorname    Almond Joy  Baby Ruth  Boston Baked Beans  Candy Corn   \n",
       "chocolate                  1          1                   0           0   \n",
       "fruity                     0          0                   0           0   \n",
       "caramel                    0          1                   0           0   \n",
       "peanutyalmondy             1          1                   1           0   \n",
       "nougat                     0          1                   0           0   \n",
       "crispedricewafer           0          0                   0           0   \n",
       "hard                       0          0                   0           0   \n",
       "bar                        1          1                   0           0   \n",
       "pluribus                   0          0                   1           1   \n",
       "sugarpercent           0.465      0.604               0.313       0.906   \n",
       "pricepercent           0.767      0.767               0.511       0.325   \n",
       "winpercent         50.347546  56.914547           23.417824   38.010963   \n",
       "\n",
       "                                  9   ...                    75  \\\n",
       "competitorname    Caramel Apple Pops  ...  Tootsie Roll Juniors   \n",
       "chocolate                          0  ...                     1   \n",
       "fruity                             1  ...                     0   \n",
       "caramel                            1  ...                     0   \n",
       "peanutyalmondy                     0  ...                     0   \n",
       "nougat                             0  ...                     0   \n",
       "crispedricewafer                   0  ...                     0   \n",
       "hard                               0  ...                     0   \n",
       "bar                                0  ...                     0   \n",
       "pluribus                           0  ...                     0   \n",
       "sugarpercent                   0.604  ...                 0.313   \n",
       "pricepercent                   0.325  ...                 0.511   \n",
       "winpercent                 34.517681  ...             43.068897   \n",
       "\n",
       "                                    76                       77  \\\n",
       "competitorname    Tootsie Roll Midgies  Tootsie Roll Snack Bars   \n",
       "chocolate                            1                        1   \n",
       "fruity                               0                        0   \n",
       "caramel                              0                        0   \n",
       "peanutyalmondy                       0                        0   \n",
       "nougat                               0                        0   \n",
       "crispedricewafer                     0                        0   \n",
       "hard                                 0                        0   \n",
       "bar                                  0                        1   \n",
       "pluribus                             1                        0   \n",
       "sugarpercent                     0.174                    0.465   \n",
       "pricepercent                     0.011                    0.325   \n",
       "winpercent                   45.736748                49.653503   \n",
       "\n",
       "                                 78         79         80         81  \\\n",
       "competitorname    Trolli Sour Bites       Twix  Twizzlers   Warheads   \n",
       "chocolate                         0          1          0          0   \n",
       "fruity                            1          0          1          1   \n",
       "caramel                           0          1          0          0   \n",
       "peanutyalmondy                    0          0          0          0   \n",
       "nougat                            0          0          0          0   \n",
       "crispedricewafer                  0          1          0          0   \n",
       "hard                              0          0          0          1   \n",
       "bar                               0          1          0          0   \n",
       "pluribus                          1          0          0          0   \n",
       "sugarpercent                  0.313      0.546       0.22      0.093   \n",
       "pricepercent                  0.255      0.906      0.116      0.116   \n",
       "winpercent                47.173229  81.642914  45.466282  39.011898   \n",
       "\n",
       "                                    82                          83         84  \n",
       "competitorname    WelchÕs Fruit Snacks  WertherÕs Original Caramel   Whoppers  \n",
       "chocolate                            0                           0          1  \n",
       "fruity                               1                           0          0  \n",
       "caramel                              0                           1          0  \n",
       "peanutyalmondy                       0                           0          0  \n",
       "nougat                               0                           0          0  \n",
       "crispedricewafer                     0                           0          1  \n",
       "hard                                 0                           1          0  \n",
       "bar                                  0                           0          0  \n",
       "pluribus                             1                           0          1  \n",
       "sugarpercent                     0.313                       0.186      0.872  \n",
       "pricepercent                     0.313                       0.267      0.848  \n",
       "winpercent                   44.375519                   41.904308  49.524113  \n",
       "\n",
       "[13 rows x 85 columns]"
      ]
     },
     "metadata": {},
     "output_type": "display_data"
    }
   ],
   "source": [
    "# Import the data\n",
    "candy_df = pd.read_csv('../input/candy-data/candy-data.csv')\n",
    "display(candy_df.T)"
   ]
  },
  {
   "cell_type": "code",
   "execution_count": 3,
   "metadata": {
    "execution": {
     "iopub.execute_input": "2022-01-12T23:51:33.664976Z",
     "iopub.status.busy": "2022-01-12T23:51:33.663976Z",
     "iopub.status.idle": "2022-01-12T23:51:33.672152Z",
     "shell.execute_reply": "2022-01-12T23:51:33.672802Z",
     "shell.execute_reply.started": "2022-01-12T23:47:36.326000Z"
    },
    "papermill": {
     "duration": 0.05087,
     "end_time": "2022-01-12T23:51:33.673004",
     "exception": false,
     "start_time": "2022-01-12T23:51:33.622134",
     "status": "completed"
    },
    "tags": []
   },
   "outputs": [],
   "source": [
    "# Data Cleaning\n",
    "# Special character is appearing in name of candy. Therefore we will format it.\n",
    "candy_df['competitorname'] = candy_df.competitorname.apply(lambda l: l.replace('Õ', '\\''))"
   ]
  },
  {
   "cell_type": "markdown",
   "metadata": {
    "papermill": {
     "duration": 0.039839,
     "end_time": "2022-01-12T23:51:33.752364",
     "exception": false,
     "start_time": "2022-01-12T23:51:33.712525",
     "status": "completed"
    },
    "tags": []
   },
   "source": [
    "# 1- Exploratory Data Analysis "
   ]
  },
  {
   "cell_type": "code",
   "execution_count": 4,
   "metadata": {
    "execution": {
     "iopub.execute_input": "2022-01-12T23:51:33.834786Z",
     "iopub.status.busy": "2022-01-12T23:51:33.833744Z",
     "iopub.status.idle": "2022-01-12T23:51:46.381479Z",
     "shell.execute_reply": "2022-01-12T23:51:46.381976Z",
     "shell.execute_reply.started": "2022-01-12T23:47:36.337448Z"
    },
    "papermill": {
     "duration": 12.590564,
     "end_time": "2022-01-12T23:51:46.382158",
     "exception": false,
     "start_time": "2022-01-12T23:51:33.791594",
     "status": "completed"
    },
    "tags": []
   },
   "outputs": [
    {
     "data": {
      "application/vnd.jupyter.widget-view+json": {
       "model_id": "b8346150e6894fb29cd653bd7668c13e",
       "version_major": 2,
       "version_minor": 0
      },
      "text/plain": [
       "Summarize dataset:   0%|          | 0/26 [00:00<?, ?it/s]"
      ]
     },
     "metadata": {},
     "output_type": "display_data"
    },
    {
     "data": {
      "application/vnd.jupyter.widget-view+json": {
       "model_id": "9a07d09ff6fd4b68a9db91c1d0cb4a1a",
       "version_major": 2,
       "version_minor": 0
      },
      "text/plain": [
       "Generate report structure:   0%|          | 0/1 [00:00<?, ?it/s]"
      ]
     },
     "metadata": {},
     "output_type": "display_data"
    },
    {
     "data": {
      "application/vnd.jupyter.widget-view+json": {
       "model_id": "321c06eec8ac40bea90e23d58fb5447c",
       "version_major": 2,
       "version_minor": 0
      },
      "text/plain": [
       "Render HTML:   0%|          | 0/1 [00:00<?, ?it/s]"
      ]
     },
     "metadata": {},
     "output_type": "display_data"
    },
    {
     "data": {
      "application/vnd.jupyter.widget-view+json": {
       "model_id": "d6aaa82e9d784618965382921627e148",
       "version_major": 2,
       "version_minor": 0
      },
      "text/plain": [
       "Export report to file:   0%|          | 0/1 [00:00<?, ?it/s]"
      ]
     },
     "metadata": {},
     "output_type": "display_data"
    }
   ],
   "source": [
    "# Generate Report Using Pandas Profiling (Variables types,descriptions and distributions, correlations, ...)\n",
    "candy_df_profile = ProfileReport(candy_df)\n",
    "# Save profile to an HTML\n",
    "candy_df_profile.to_file(\"candy_data_exploration_report.html\")"
   ]
  },
  {
   "cell_type": "markdown",
   "metadata": {
    "papermill": {
     "duration": 0.044571,
     "end_time": "2022-01-12T23:51:46.468312",
     "exception": false,
     "start_time": "2022-01-12T23:51:46.423741",
     "status": "completed"
    },
    "tags": []
   },
   "source": [
    "### Insights from the data profiling\n",
    "* The data looks good; appropriate dtype, basic statistics makes sense, no missing values. Therefore no data cleanup is required.\n",
    "* The data contains 83 candy brands and 12 candy properties. sugarpercent, pricepercent and winpercent are the only continuous features. The rest are boolean features.\n",
    "* The distribution of the win percentage (the dependant feature or the target) looks pretty symmetrical, and seems to center on about 45%. It varies from about 20% to 80% between the different brands.\n",
    "* From the correlation matrix, we can see the correlation of win percent to other features. Therefore there are some signals or relations in our data. We will explore the matrix in detail later.\n",
    "* Candy properties (the independent features) could be divided into taste features, appearance features, sugar amount, and price.\n",
    "\n",
    "#### Taste Properties\n",
    "* 43.5% of candies contain chocolate, 44.7% are fruit-flavored.\n",
    "* Caramel can be found in 16.5% of the 85 candies. \n",
    "* Candies containing peanuts/peanut butter/almonds only account for 16% of the candies, which may be due to the manufacturers accounting for people with nut allergies. \n",
    "* Only 8.2% of candies contain nougat. \n",
    "* Similar to nougat, candies with crisped rice/wafers/a cookie component only make up 8.2% of the candies.\n",
    "\n",
    "#### Appearance Properties\n",
    "* Hard candies make up 17% of the 85 candies. \n",
    "* Bar candies make up almost one quarter of the candies\n",
    "* 51.8% of candy packages are bags, 48.2% are boxes. "
   ]
  },
  {
   "cell_type": "code",
   "execution_count": 5,
   "metadata": {
    "execution": {
     "iopub.execute_input": "2022-01-12T23:51:46.558961Z",
     "iopub.status.busy": "2022-01-12T23:51:46.558239Z",
     "iopub.status.idle": "2022-01-12T23:51:46.562333Z",
     "shell.execute_reply": "2022-01-12T23:51:46.562917Z",
     "shell.execute_reply.started": "2022-01-12T23:47:49.534671Z"
    },
    "papermill": {
     "duration": 0.050144,
     "end_time": "2022-01-12T23:51:46.563109",
     "exception": false,
     "start_time": "2022-01-12T23:51:46.512965",
     "status": "completed"
    },
    "tags": []
   },
   "outputs": [],
   "source": [
    "# sort candies by winpercent\n",
    "candy_sorted_win = candy_df.sort_values(by=['winpercent'], ascending=False)"
   ]
  },
  {
   "cell_type": "code",
   "execution_count": 6,
   "metadata": {
    "execution": {
     "iopub.execute_input": "2022-01-12T23:51:46.648326Z",
     "iopub.status.busy": "2022-01-12T23:51:46.647656Z",
     "iopub.status.idle": "2022-01-12T23:51:46.663775Z",
     "shell.execute_reply": "2022-01-12T23:51:46.664403Z",
     "shell.execute_reply.started": "2022-01-12T23:47:49.542257Z"
    },
    "papermill": {
     "duration": 0.060352,
     "end_time": "2022-01-12T23:51:46.664593",
     "exception": false,
     "start_time": "2022-01-12T23:51:46.604241",
     "status": "completed"
    },
    "tags": []
   },
   "outputs": [
    {
     "data": {
      "text/html": [
       "<div>\n",
       "<style scoped>\n",
       "    .dataframe tbody tr th:only-of-type {\n",
       "        vertical-align: middle;\n",
       "    }\n",
       "\n",
       "    .dataframe tbody tr th {\n",
       "        vertical-align: top;\n",
       "    }\n",
       "\n",
       "    .dataframe thead th {\n",
       "        text-align: right;\n",
       "    }\n",
       "</style>\n",
       "<table border=\"1\" class=\"dataframe\">\n",
       "  <thead>\n",
       "    <tr style=\"text-align: right;\">\n",
       "      <th></th>\n",
       "      <th>competitorname</th>\n",
       "      <th>chocolate</th>\n",
       "      <th>fruity</th>\n",
       "      <th>caramel</th>\n",
       "      <th>peanutyalmondy</th>\n",
       "      <th>nougat</th>\n",
       "      <th>crispedricewafer</th>\n",
       "      <th>hard</th>\n",
       "      <th>bar</th>\n",
       "      <th>pluribus</th>\n",
       "      <th>sugarpercent</th>\n",
       "      <th>pricepercent</th>\n",
       "      <th>winpercent</th>\n",
       "    </tr>\n",
       "  </thead>\n",
       "  <tbody>\n",
       "    <tr>\n",
       "      <th>52</th>\n",
       "      <td>Reese's Peanut Butter cup</td>\n",
       "      <td>1</td>\n",
       "      <td>0</td>\n",
       "      <td>0</td>\n",
       "      <td>1</td>\n",
       "      <td>0</td>\n",
       "      <td>0</td>\n",
       "      <td>0</td>\n",
       "      <td>0</td>\n",
       "      <td>0</td>\n",
       "      <td>0.720</td>\n",
       "      <td>0.651</td>\n",
       "      <td>84.180290</td>\n",
       "    </tr>\n",
       "    <tr>\n",
       "      <th>51</th>\n",
       "      <td>Reese's Miniatures</td>\n",
       "      <td>1</td>\n",
       "      <td>0</td>\n",
       "      <td>0</td>\n",
       "      <td>1</td>\n",
       "      <td>0</td>\n",
       "      <td>0</td>\n",
       "      <td>0</td>\n",
       "      <td>0</td>\n",
       "      <td>0</td>\n",
       "      <td>0.034</td>\n",
       "      <td>0.279</td>\n",
       "      <td>81.866257</td>\n",
       "    </tr>\n",
       "    <tr>\n",
       "      <th>79</th>\n",
       "      <td>Twix</td>\n",
       "      <td>1</td>\n",
       "      <td>0</td>\n",
       "      <td>1</td>\n",
       "      <td>0</td>\n",
       "      <td>0</td>\n",
       "      <td>1</td>\n",
       "      <td>0</td>\n",
       "      <td>1</td>\n",
       "      <td>0</td>\n",
       "      <td>0.546</td>\n",
       "      <td>0.906</td>\n",
       "      <td>81.642914</td>\n",
       "    </tr>\n",
       "    <tr>\n",
       "      <th>28</th>\n",
       "      <td>Kit Kat</td>\n",
       "      <td>1</td>\n",
       "      <td>0</td>\n",
       "      <td>0</td>\n",
       "      <td>0</td>\n",
       "      <td>0</td>\n",
       "      <td>1</td>\n",
       "      <td>0</td>\n",
       "      <td>1</td>\n",
       "      <td>0</td>\n",
       "      <td>0.313</td>\n",
       "      <td>0.511</td>\n",
       "      <td>76.768600</td>\n",
       "    </tr>\n",
       "    <tr>\n",
       "      <th>64</th>\n",
       "      <td>Snickers</td>\n",
       "      <td>1</td>\n",
       "      <td>0</td>\n",
       "      <td>1</td>\n",
       "      <td>1</td>\n",
       "      <td>1</td>\n",
       "      <td>0</td>\n",
       "      <td>0</td>\n",
       "      <td>1</td>\n",
       "      <td>0</td>\n",
       "      <td>0.546</td>\n",
       "      <td>0.651</td>\n",
       "      <td>76.673782</td>\n",
       "    </tr>\n",
       "    <tr>\n",
       "      <th>53</th>\n",
       "      <td>Reese's pieces</td>\n",
       "      <td>1</td>\n",
       "      <td>0</td>\n",
       "      <td>0</td>\n",
       "      <td>1</td>\n",
       "      <td>0</td>\n",
       "      <td>0</td>\n",
       "      <td>0</td>\n",
       "      <td>0</td>\n",
       "      <td>1</td>\n",
       "      <td>0.406</td>\n",
       "      <td>0.651</td>\n",
       "      <td>73.434990</td>\n",
       "    </tr>\n",
       "    <tr>\n",
       "      <th>36</th>\n",
       "      <td>Milky Way</td>\n",
       "      <td>1</td>\n",
       "      <td>0</td>\n",
       "      <td>1</td>\n",
       "      <td>0</td>\n",
       "      <td>1</td>\n",
       "      <td>0</td>\n",
       "      <td>0</td>\n",
       "      <td>1</td>\n",
       "      <td>0</td>\n",
       "      <td>0.604</td>\n",
       "      <td>0.651</td>\n",
       "      <td>73.099556</td>\n",
       "    </tr>\n",
       "    <tr>\n",
       "      <th>54</th>\n",
       "      <td>Reese's stuffed with pieces</td>\n",
       "      <td>1</td>\n",
       "      <td>0</td>\n",
       "      <td>0</td>\n",
       "      <td>1</td>\n",
       "      <td>0</td>\n",
       "      <td>0</td>\n",
       "      <td>0</td>\n",
       "      <td>0</td>\n",
       "      <td>0</td>\n",
       "      <td>0.988</td>\n",
       "      <td>0.651</td>\n",
       "      <td>72.887901</td>\n",
       "    </tr>\n",
       "    <tr>\n",
       "      <th>32</th>\n",
       "      <td>Peanut butter M&amp;M's</td>\n",
       "      <td>1</td>\n",
       "      <td>0</td>\n",
       "      <td>0</td>\n",
       "      <td>1</td>\n",
       "      <td>0</td>\n",
       "      <td>0</td>\n",
       "      <td>0</td>\n",
       "      <td>0</td>\n",
       "      <td>1</td>\n",
       "      <td>0.825</td>\n",
       "      <td>0.651</td>\n",
       "      <td>71.465050</td>\n",
       "    </tr>\n",
       "    <tr>\n",
       "      <th>42</th>\n",
       "      <td>Nestle Butterfinger</td>\n",
       "      <td>1</td>\n",
       "      <td>0</td>\n",
       "      <td>0</td>\n",
       "      <td>1</td>\n",
       "      <td>0</td>\n",
       "      <td>0</td>\n",
       "      <td>0</td>\n",
       "      <td>1</td>\n",
       "      <td>0</td>\n",
       "      <td>0.604</td>\n",
       "      <td>0.767</td>\n",
       "      <td>70.735641</td>\n",
       "    </tr>\n",
       "  </tbody>\n",
       "</table>\n",
       "</div>"
      ],
      "text/plain": [
       "                 competitorname  chocolate  fruity  caramel  peanutyalmondy  \\\n",
       "52    Reese's Peanut Butter cup          1       0        0               1   \n",
       "51           Reese's Miniatures          1       0        0               1   \n",
       "79                         Twix          1       0        1               0   \n",
       "28                      Kit Kat          1       0        0               0   \n",
       "64                     Snickers          1       0        1               1   \n",
       "53               Reese's pieces          1       0        0               1   \n",
       "36                    Milky Way          1       0        1               0   \n",
       "54  Reese's stuffed with pieces          1       0        0               1   \n",
       "32          Peanut butter M&M's          1       0        0               1   \n",
       "42          Nestle Butterfinger          1       0        0               1   \n",
       "\n",
       "    nougat  crispedricewafer  hard  bar  pluribus  sugarpercent  pricepercent  \\\n",
       "52       0                 0     0    0         0         0.720         0.651   \n",
       "51       0                 0     0    0         0         0.034         0.279   \n",
       "79       0                 1     0    1         0         0.546         0.906   \n",
       "28       0                 1     0    1         0         0.313         0.511   \n",
       "64       1                 0     0    1         0         0.546         0.651   \n",
       "53       0                 0     0    0         1         0.406         0.651   \n",
       "36       1                 0     0    1         0         0.604         0.651   \n",
       "54       0                 0     0    0         0         0.988         0.651   \n",
       "32       0                 0     0    0         1         0.825         0.651   \n",
       "42       0                 0     0    1         0         0.604         0.767   \n",
       "\n",
       "    winpercent  \n",
       "52   84.180290  \n",
       "51   81.866257  \n",
       "79   81.642914  \n",
       "28   76.768600  \n",
       "64   76.673782  \n",
       "53   73.434990  \n",
       "36   73.099556  \n",
       "54   72.887901  \n",
       "32   71.465050  \n",
       "42   70.735641  "
      ]
     },
     "execution_count": 6,
     "metadata": {},
     "output_type": "execute_result"
    }
   ],
   "source": [
    "# What are the top 10 candies with the highest winpercent?\n",
    "candy_sorted_win.head(10)"
   ]
  },
  {
   "cell_type": "code",
   "execution_count": 7,
   "metadata": {
    "execution": {
     "iopub.execute_input": "2022-01-12T23:51:46.776916Z",
     "iopub.status.busy": "2022-01-12T23:51:46.775851Z",
     "iopub.status.idle": "2022-01-12T23:51:46.779979Z",
     "shell.execute_reply": "2022-01-12T23:51:46.780773Z",
     "shell.execute_reply.started": "2022-01-12T23:47:49.570011Z"
    },
    "papermill": {
     "duration": 0.074667,
     "end_time": "2022-01-12T23:51:46.781057",
     "exception": false,
     "start_time": "2022-01-12T23:51:46.706390",
     "status": "completed"
    },
    "tags": []
   },
   "outputs": [
    {
     "data": {
      "text/html": [
       "<div>\n",
       "<style scoped>\n",
       "    .dataframe tbody tr th:only-of-type {\n",
       "        vertical-align: middle;\n",
       "    }\n",
       "\n",
       "    .dataframe tbody tr th {\n",
       "        vertical-align: top;\n",
       "    }\n",
       "\n",
       "    .dataframe thead th {\n",
       "        text-align: right;\n",
       "    }\n",
       "</style>\n",
       "<table border=\"1\" class=\"dataframe\">\n",
       "  <thead>\n",
       "    <tr style=\"text-align: right;\">\n",
       "      <th></th>\n",
       "      <th>competitorname</th>\n",
       "      <th>chocolate</th>\n",
       "      <th>fruity</th>\n",
       "      <th>caramel</th>\n",
       "      <th>peanutyalmondy</th>\n",
       "      <th>nougat</th>\n",
       "      <th>crispedricewafer</th>\n",
       "      <th>hard</th>\n",
       "      <th>bar</th>\n",
       "      <th>pluribus</th>\n",
       "      <th>sugarpercent</th>\n",
       "      <th>pricepercent</th>\n",
       "      <th>winpercent</th>\n",
       "    </tr>\n",
       "  </thead>\n",
       "  <tbody>\n",
       "    <tr>\n",
       "      <th>19</th>\n",
       "      <td>Haribo Happy Cola</td>\n",
       "      <td>0</td>\n",
       "      <td>0</td>\n",
       "      <td>0</td>\n",
       "      <td>0</td>\n",
       "      <td>0</td>\n",
       "      <td>0</td>\n",
       "      <td>0</td>\n",
       "      <td>0</td>\n",
       "      <td>1</td>\n",
       "      <td>0.465</td>\n",
       "      <td>0.465</td>\n",
       "      <td>34.158958</td>\n",
       "    </tr>\n",
       "    <tr>\n",
       "      <th>70</th>\n",
       "      <td>Sugar Babies</td>\n",
       "      <td>0</td>\n",
       "      <td>0</td>\n",
       "      <td>1</td>\n",
       "      <td>0</td>\n",
       "      <td>0</td>\n",
       "      <td>0</td>\n",
       "      <td>0</td>\n",
       "      <td>0</td>\n",
       "      <td>1</td>\n",
       "      <td>0.965</td>\n",
       "      <td>0.767</td>\n",
       "      <td>33.437550</td>\n",
       "    </tr>\n",
       "    <tr>\n",
       "      <th>2</th>\n",
       "      <td>One dime</td>\n",
       "      <td>0</td>\n",
       "      <td>0</td>\n",
       "      <td>0</td>\n",
       "      <td>0</td>\n",
       "      <td>0</td>\n",
       "      <td>0</td>\n",
       "      <td>0</td>\n",
       "      <td>0</td>\n",
       "      <td>0</td>\n",
       "      <td>0.011</td>\n",
       "      <td>0.116</td>\n",
       "      <td>32.261086</td>\n",
       "    </tr>\n",
       "    <tr>\n",
       "      <th>71</th>\n",
       "      <td>Sugar Daddy</td>\n",
       "      <td>0</td>\n",
       "      <td>0</td>\n",
       "      <td>1</td>\n",
       "      <td>0</td>\n",
       "      <td>0</td>\n",
       "      <td>0</td>\n",
       "      <td>0</td>\n",
       "      <td>0</td>\n",
       "      <td>0</td>\n",
       "      <td>0.418</td>\n",
       "      <td>0.325</td>\n",
       "      <td>32.230995</td>\n",
       "    </tr>\n",
       "    <tr>\n",
       "      <th>57</th>\n",
       "      <td>Root Beer Barrels</td>\n",
       "      <td>0</td>\n",
       "      <td>0</td>\n",
       "      <td>0</td>\n",
       "      <td>0</td>\n",
       "      <td>0</td>\n",
       "      <td>0</td>\n",
       "      <td>1</td>\n",
       "      <td>0</td>\n",
       "      <td>1</td>\n",
       "      <td>0.732</td>\n",
       "      <td>0.069</td>\n",
       "      <td>29.703691</td>\n",
       "    </tr>\n",
       "    <tr>\n",
       "      <th>26</th>\n",
       "      <td>Jawbusters</td>\n",
       "      <td>0</td>\n",
       "      <td>1</td>\n",
       "      <td>0</td>\n",
       "      <td>0</td>\n",
       "      <td>0</td>\n",
       "      <td>0</td>\n",
       "      <td>1</td>\n",
       "      <td>0</td>\n",
       "      <td>1</td>\n",
       "      <td>0.093</td>\n",
       "      <td>0.511</td>\n",
       "      <td>28.127439</td>\n",
       "    </tr>\n",
       "    <tr>\n",
       "      <th>72</th>\n",
       "      <td>Super Bubble</td>\n",
       "      <td>0</td>\n",
       "      <td>1</td>\n",
       "      <td>0</td>\n",
       "      <td>0</td>\n",
       "      <td>0</td>\n",
       "      <td>0</td>\n",
       "      <td>0</td>\n",
       "      <td>0</td>\n",
       "      <td>0</td>\n",
       "      <td>0.162</td>\n",
       "      <td>0.116</td>\n",
       "      <td>27.303865</td>\n",
       "    </tr>\n",
       "    <tr>\n",
       "      <th>12</th>\n",
       "      <td>Chiclets</td>\n",
       "      <td>0</td>\n",
       "      <td>1</td>\n",
       "      <td>0</td>\n",
       "      <td>0</td>\n",
       "      <td>0</td>\n",
       "      <td>0</td>\n",
       "      <td>0</td>\n",
       "      <td>0</td>\n",
       "      <td>1</td>\n",
       "      <td>0.046</td>\n",
       "      <td>0.325</td>\n",
       "      <td>24.524988</td>\n",
       "    </tr>\n",
       "    <tr>\n",
       "      <th>7</th>\n",
       "      <td>Boston Baked Beans</td>\n",
       "      <td>0</td>\n",
       "      <td>0</td>\n",
       "      <td>0</td>\n",
       "      <td>1</td>\n",
       "      <td>0</td>\n",
       "      <td>0</td>\n",
       "      <td>0</td>\n",
       "      <td>0</td>\n",
       "      <td>1</td>\n",
       "      <td>0.313</td>\n",
       "      <td>0.511</td>\n",
       "      <td>23.417824</td>\n",
       "    </tr>\n",
       "    <tr>\n",
       "      <th>44</th>\n",
       "      <td>Nik L Nip</td>\n",
       "      <td>0</td>\n",
       "      <td>1</td>\n",
       "      <td>0</td>\n",
       "      <td>0</td>\n",
       "      <td>0</td>\n",
       "      <td>0</td>\n",
       "      <td>0</td>\n",
       "      <td>0</td>\n",
       "      <td>1</td>\n",
       "      <td>0.197</td>\n",
       "      <td>0.976</td>\n",
       "      <td>22.445341</td>\n",
       "    </tr>\n",
       "  </tbody>\n",
       "</table>\n",
       "</div>"
      ],
      "text/plain": [
       "        competitorname  chocolate  fruity  caramel  peanutyalmondy  nougat  \\\n",
       "19   Haribo Happy Cola          0       0        0               0       0   \n",
       "70        Sugar Babies          0       0        1               0       0   \n",
       "2             One dime          0       0        0               0       0   \n",
       "71         Sugar Daddy          0       0        1               0       0   \n",
       "57   Root Beer Barrels          0       0        0               0       0   \n",
       "26          Jawbusters          0       1        0               0       0   \n",
       "72        Super Bubble          0       1        0               0       0   \n",
       "12            Chiclets          0       1        0               0       0   \n",
       "7   Boston Baked Beans          0       0        0               1       0   \n",
       "44           Nik L Nip          0       1        0               0       0   \n",
       "\n",
       "    crispedricewafer  hard  bar  pluribus  sugarpercent  pricepercent  \\\n",
       "19                 0     0    0         1         0.465         0.465   \n",
       "70                 0     0    0         1         0.965         0.767   \n",
       "2                  0     0    0         0         0.011         0.116   \n",
       "71                 0     0    0         0         0.418         0.325   \n",
       "57                 0     1    0         1         0.732         0.069   \n",
       "26                 0     1    0         1         0.093         0.511   \n",
       "72                 0     0    0         0         0.162         0.116   \n",
       "12                 0     0    0         1         0.046         0.325   \n",
       "7                  0     0    0         1         0.313         0.511   \n",
       "44                 0     0    0         1         0.197         0.976   \n",
       "\n",
       "    winpercent  \n",
       "19   34.158958  \n",
       "70   33.437550  \n",
       "2    32.261086  \n",
       "71   32.230995  \n",
       "57   29.703691  \n",
       "26   28.127439  \n",
       "72   27.303865  \n",
       "12   24.524988  \n",
       "7    23.417824  \n",
       "44   22.445341  "
      ]
     },
     "execution_count": 7,
     "metadata": {},
     "output_type": "execute_result"
    }
   ],
   "source": [
    "# What are the flop 10 candies with lowest winpercent?\n",
    "candy_sorted_win.tail(10)"
   ]
  },
  {
   "cell_type": "markdown",
   "metadata": {
    "papermill": {
     "duration": 0.048848,
     "end_time": "2022-01-12T23:51:46.878377",
     "exception": false,
     "start_time": "2022-01-12T23:51:46.829529",
     "status": "completed"
    },
    "tags": []
   },
   "source": [
    "### Observations\n",
    "**In the top 10**\n",
    "* All instances have chocolate but are not fruity\n",
    "* The second place has almost no sugar\n",
    "* All are soft\n",
    "\n",
    "**In the flop 10**\n",
    "* There is no chocolate, nougat and crispedricewafer\n",
    "* All of them are no bar candies"
   ]
  },
  {
   "cell_type": "markdown",
   "metadata": {
    "papermill": {
     "duration": 0.051381,
     "end_time": "2022-01-12T23:51:46.974972",
     "exception": false,
     "start_time": "2022-01-12T23:51:46.923591",
     "status": "completed"
    },
    "tags": []
   },
   "source": [
    "### Correlation Analysis\n",
    "Now that we have explored the dataset one variable at a time, we’ll see how the interactions of the variables with each other.\n",
    "\n",
    "These relations can be studied by simply computing the Pearson Correlation between different features. The correlation matrics contains every correlation coefficiant for every pair of features and target variable."
   ]
  },
  {
   "cell_type": "code",
   "execution_count": 8,
   "metadata": {
    "execution": {
     "iopub.execute_input": "2022-01-12T23:51:47.082555Z",
     "iopub.status.busy": "2022-01-12T23:51:47.081886Z",
     "iopub.status.idle": "2022-01-12T23:51:48.220774Z",
     "shell.execute_reply": "2022-01-12T23:51:48.221371Z",
     "shell.execute_reply.started": "2022-01-12T23:47:49.586473Z"
    },
    "papermill": {
     "duration": 1.195124,
     "end_time": "2022-01-12T23:51:48.221552",
     "exception": false,
     "start_time": "2022-01-12T23:51:47.026428",
     "status": "completed"
    },
    "tags": []
   },
   "outputs": [
    {
     "data": {
      "text/plain": [
       "<AxesSubplot:title={'center':'Pearson Correlation matrix heatmap'}>"
      ]
     },
     "execution_count": 8,
     "metadata": {},
     "output_type": "execute_result"
    },
    {
     "data": {
      "image/png": "[encoded data removed]",
      "text/plain": [
       "<Figure size 1440x720 with 2 Axes>"
      ]
     },
     "metadata": {},
     "output_type": "display_data"
    }
   ],
   "source": [
    "plt.figure(figsize=(20,10))\n",
    "plt.title('Pearson Correlation matrix heatmap');\n",
    "mask=np.zeros_like(candy_df.corr(),dtype=np.bool)\n",
    "mask[np.triu_indices_from(mask)]=True\n",
    "sns.heatmap(candy_df.corr(),annot=True, mask=mask, cmap = 'coolwarm')"
   ]
  },
  {
   "cell_type": "code",
   "execution_count": 9,
   "metadata": {
    "execution": {
     "iopub.execute_input": "2022-01-12T23:51:48.325260Z",
     "iopub.status.busy": "2022-01-12T23:51:48.324458Z",
     "iopub.status.idle": "2022-01-12T23:51:48.367309Z",
     "shell.execute_reply": "2022-01-12T23:51:48.367767Z",
     "shell.execute_reply.started": "2022-01-12T23:47:50.629909Z"
    },
    "papermill": {
     "duration": 0.10016,
     "end_time": "2022-01-12T23:51:48.367987",
     "exception": false,
     "start_time": "2022-01-12T23:51:48.267827",
     "status": "completed"
    },
    "tags": []
   },
   "outputs": [
    {
     "data": {
      "text/html": [
       "<div>\n",
       "<style scoped>\n",
       "    .dataframe tbody tr th:only-of-type {\n",
       "        vertical-align: middle;\n",
       "    }\n",
       "\n",
       "    .dataframe tbody tr th {\n",
       "        vertical-align: top;\n",
       "    }\n",
       "\n",
       "    .dataframe thead th {\n",
       "        text-align: right;\n",
       "    }\n",
       "</style>\n",
       "<table border=\"1\" class=\"dataframe\">\n",
       "  <thead>\n",
       "    <tr style=\"text-align: right;\">\n",
       "      <th></th>\n",
       "      <th>feature1</th>\n",
       "      <th>feature2</th>\n",
       "      <th>corr</th>\n",
       "    </tr>\n",
       "  </thead>\n",
       "  <tbody>\n",
       "    <tr>\n",
       "      <th>0</th>\n",
       "      <td>chocolate</td>\n",
       "      <td>fruity</td>\n",
       "      <td>-0.741721</td>\n",
       "    </tr>\n",
       "    <tr>\n",
       "      <th>1</th>\n",
       "      <td>chocolate</td>\n",
       "      <td>winpercent</td>\n",
       "      <td>0.636517</td>\n",
       "    </tr>\n",
       "    <tr>\n",
       "      <th>2</th>\n",
       "      <td>bar</td>\n",
       "      <td>chocolate</td>\n",
       "      <td>0.597421</td>\n",
       "    </tr>\n",
       "    <tr>\n",
       "      <th>3</th>\n",
       "      <td>bar</td>\n",
       "      <td>pluribus</td>\n",
       "      <td>-0.593409</td>\n",
       "    </tr>\n",
       "    <tr>\n",
       "      <th>4</th>\n",
       "      <td>bar</td>\n",
       "      <td>nougat</td>\n",
       "      <td>0.522976</td>\n",
       "    </tr>\n",
       "    <tr>\n",
       "      <th>5</th>\n",
       "      <td>bar</td>\n",
       "      <td>pricepercent</td>\n",
       "      <td>0.518407</td>\n",
       "    </tr>\n",
       "    <tr>\n",
       "      <th>6</th>\n",
       "      <td>bar</td>\n",
       "      <td>fruity</td>\n",
       "      <td>-0.515066</td>\n",
       "    </tr>\n",
       "    <tr>\n",
       "      <th>7</th>\n",
       "      <td>chocolate</td>\n",
       "      <td>pricepercent</td>\n",
       "      <td>0.504675</td>\n",
       "    </tr>\n",
       "    <tr>\n",
       "      <th>8</th>\n",
       "      <td>fruity</td>\n",
       "      <td>pricepercent</td>\n",
       "      <td>-0.430969</td>\n",
       "    </tr>\n",
       "    <tr>\n",
       "      <th>9</th>\n",
       "      <td>bar</td>\n",
       "      <td>winpercent</td>\n",
       "      <td>0.429929</td>\n",
       "    </tr>\n",
       "  </tbody>\n",
       "</table>\n",
       "</div>"
      ],
      "text/plain": [
       "    feature1      feature2      corr\n",
       "0  chocolate        fruity -0.741721\n",
       "1  chocolate    winpercent  0.636517\n",
       "2        bar     chocolate  0.597421\n",
       "3        bar      pluribus -0.593409\n",
       "4        bar        nougat  0.522976\n",
       "5        bar  pricepercent  0.518407\n",
       "6        bar        fruity -0.515066\n",
       "7  chocolate  pricepercent  0.504675\n",
       "8     fruity  pricepercent -0.430969\n",
       "9        bar    winpercent  0.429929"
      ]
     },
     "execution_count": 9,
     "metadata": {},
     "output_type": "execute_result"
    }
   ],
   "source": [
    "# Since the matrics is large, here the top ten of correlations (positive and negative):\n",
    "corr_df = pd.DataFrame([(f1, f2, candy_df.corr()[f1].loc[f2]) for (f1, f2) in itertools.combinations(candy_df.columns[1:].sort_values(), 2)],\n",
    "             columns=['feature1', 'feature2', 'corr']).sort_values('corr')\n",
    "\n",
    "corr_df = corr_df.iloc[(-corr_df['corr'].abs()).argsort()].reset_index(drop=True)\n",
    "corr_df[:10]"
   ]
  },
  {
   "cell_type": "code",
   "execution_count": 10,
   "metadata": {
    "execution": {
     "iopub.execute_input": "2022-01-12T23:51:48.465218Z",
     "iopub.status.busy": "2022-01-12T23:51:48.464447Z",
     "iopub.status.idle": "2022-01-12T23:51:48.476109Z",
     "shell.execute_reply": "2022-01-12T23:51:48.476625Z",
     "shell.execute_reply.started": "2022-01-12T23:47:50.683308Z"
    },
    "papermill": {
     "duration": 0.062396,
     "end_time": "2022-01-12T23:51:48.476833",
     "exception": false,
     "start_time": "2022-01-12T23:51:48.414437",
     "status": "completed"
    },
    "tags": []
   },
   "outputs": [
    {
     "data": {
      "text/html": [
       "<div>\n",
       "<style scoped>\n",
       "    .dataframe tbody tr th:only-of-type {\n",
       "        vertical-align: middle;\n",
       "    }\n",
       "\n",
       "    .dataframe tbody tr th {\n",
       "        vertical-align: top;\n",
       "    }\n",
       "\n",
       "    .dataframe thead th {\n",
       "        text-align: right;\n",
       "    }\n",
       "</style>\n",
       "<table border=\"1\" class=\"dataframe\">\n",
       "  <thead>\n",
       "    <tr style=\"text-align: right;\">\n",
       "      <th></th>\n",
       "      <th>feature1</th>\n",
       "      <th>feature2</th>\n",
       "      <th>corr</th>\n",
       "    </tr>\n",
       "  </thead>\n",
       "  <tbody>\n",
       "    <tr>\n",
       "      <th>1</th>\n",
       "      <td>chocolate</td>\n",
       "      <td>winpercent</td>\n",
       "      <td>0.636517</td>\n",
       "    </tr>\n",
       "    <tr>\n",
       "      <th>9</th>\n",
       "      <td>bar</td>\n",
       "      <td>winpercent</td>\n",
       "      <td>0.429929</td>\n",
       "    </tr>\n",
       "    <tr>\n",
       "      <th>11</th>\n",
       "      <td>peanutyalmondy</td>\n",
       "      <td>winpercent</td>\n",
       "      <td>0.406192</td>\n",
       "    </tr>\n",
       "    <tr>\n",
       "      <th>14</th>\n",
       "      <td>fruity</td>\n",
       "      <td>winpercent</td>\n",
       "      <td>-0.380938</td>\n",
       "    </tr>\n",
       "    <tr>\n",
       "      <th>16</th>\n",
       "      <td>pricepercent</td>\n",
       "      <td>winpercent</td>\n",
       "      <td>0.345325</td>\n",
       "    </tr>\n",
       "    <tr>\n",
       "      <th>25</th>\n",
       "      <td>crispedricewafer</td>\n",
       "      <td>winpercent</td>\n",
       "      <td>0.324680</td>\n",
       "    </tr>\n",
       "    <tr>\n",
       "      <th>26</th>\n",
       "      <td>hard</td>\n",
       "      <td>winpercent</td>\n",
       "      <td>-0.310382</td>\n",
       "    </tr>\n",
       "    <tr>\n",
       "      <th>38</th>\n",
       "      <td>pluribus</td>\n",
       "      <td>winpercent</td>\n",
       "      <td>-0.247448</td>\n",
       "    </tr>\n",
       "    <tr>\n",
       "      <th>40</th>\n",
       "      <td>sugarpercent</td>\n",
       "      <td>winpercent</td>\n",
       "      <td>0.229151</td>\n",
       "    </tr>\n",
       "    <tr>\n",
       "      <th>44</th>\n",
       "      <td>caramel</td>\n",
       "      <td>winpercent</td>\n",
       "      <td>0.213416</td>\n",
       "    </tr>\n",
       "    <tr>\n",
       "      <th>49</th>\n",
       "      <td>nougat</td>\n",
       "      <td>winpercent</td>\n",
       "      <td>0.199375</td>\n",
       "    </tr>\n",
       "  </tbody>\n",
       "</table>\n",
       "</div>"
      ],
      "text/plain": [
       "            feature1    feature2      corr\n",
       "1          chocolate  winpercent  0.636517\n",
       "9                bar  winpercent  0.429929\n",
       "11    peanutyalmondy  winpercent  0.406192\n",
       "14            fruity  winpercent -0.380938\n",
       "16      pricepercent  winpercent  0.345325\n",
       "25  crispedricewafer  winpercent  0.324680\n",
       "26              hard  winpercent -0.310382\n",
       "38          pluribus  winpercent -0.247448\n",
       "40      sugarpercent  winpercent  0.229151\n",
       "44           caramel  winpercent  0.213416\n",
       "49            nougat  winpercent  0.199375"
      ]
     },
     "execution_count": 10,
     "metadata": {},
     "output_type": "execute_result"
    }
   ],
   "source": [
    "# Correlation coefficients for winpercent only\n",
    "corr_df[(corr_df.feature1 == 'winpercent') | (corr_df.feature2 == 'winpercent')]"
   ]
  },
  {
   "cell_type": "markdown",
   "metadata": {
    "papermill": {
     "duration": 0.04679,
     "end_time": "2022-01-12T23:51:48.571549",
     "exception": false,
     "start_time": "2022-01-12T23:51:48.524759",
     "status": "completed"
    },
    "tags": []
   },
   "source": [
    "### Insights from correlation analysis\n",
    "\n",
    "#### **Taste & Appearcance**\n",
    "* Having chocolate in the candy would give a high win percentage, followed by being a bar candy and having peanuts/peanut butter/almonds.\n",
    "* Chocolate frequently comes in bar-shaped candies, also with peanut/almond, crisp texture, and nougat or caramel. The opposite happens with fruit-flavored candies, which frequently miss those categories. Chocolaty candies are rarely fruity.\n",
    "* Fruity taste is negatively correlated with other tastes (caramel, chocolate and peanutyalmondy), while the rest are positively correlated.\n",
    "* Fruity candies, as compared to the others, are more likely to be a hard candy.\n",
    "* There is a very small correlation between caramel and peanutyalmondy, which is surprising because of the popularity of some of the well-known brands due to the combination of these two tastes.\n",
    "* Packaging in bags is only positively correlated with hard candies. Soft candies are packed mostly in box packages.\n",
    "\n",
    "#### **Sugar**\n",
    "* Sugar content is very well balanced among all categories, except price (cheaper candies also have lower sugar levels).\n",
    "* Sugar is is not that affected by taste and shape factors, which seems to be reasonable. As expected, caramel is naturally mixed with a considerable amount of sugar and therefore has the most impact on sugar amount compared to other categories.\n",
    "* There is only a slight positive correlation between sugar percentile and the win percentage at 0.23.\n",
    "\n",
    "#### **Price**\n",
    "* Chocolate is sold at significantly higher prices than average whereas fruit-flavored at lower prices.\n",
    "* Price has a slightly more positive correlation with winning than sugar does, but there are some more expensive candies that have a win percentage lower than 40.\n",
    "\n",
    "**According to the heatmap a first recommendation could be a soft, non fruity, one-bar candy with chocolate, nuts (peanuts, almonds, ..) and some crunch (cookies, waffles, ...).**"
   ]
  },
  {
   "cell_type": "markdown",
   "metadata": {
    "papermill": {
     "duration": 0.046873,
     "end_time": "2022-01-12T23:51:48.666233",
     "exception": false,
     "start_time": "2022-01-12T23:51:48.619360",
     "status": "completed"
    },
    "tags": []
   },
   "source": [
    "### Taste Properties Analysis"
   ]
  },
  {
   "cell_type": "markdown",
   "metadata": {
    "papermill": {
     "duration": 0.046738,
     "end_time": "2022-01-12T23:51:48.760379",
     "exception": false,
     "start_time": "2022-01-12T23:51:48.713641",
     "status": "completed"
    },
    "tags": []
   },
   "source": [
    "### Chocolate"
   ]
  },
  {
   "cell_type": "code",
   "execution_count": 11,
   "metadata": {
    "_kg_hide-input": true,
    "_kg_hide-output": true,
    "execution": {
     "iopub.execute_input": "2022-01-12T23:51:48.858578Z",
     "iopub.status.busy": "2022-01-12T23:51:48.857716Z",
     "iopub.status.idle": "2022-01-12T23:51:49.293217Z",
     "shell.execute_reply": "2022-01-12T23:51:49.293854Z",
     "shell.execute_reply.started": "2022-01-12T23:47:50.696338Z"
    },
    "papermill": {
     "duration": 0.486575,
     "end_time": "2022-01-12T23:51:49.294104",
     "exception": false,
     "start_time": "2022-01-12T23:51:48.807529",
     "status": "completed"
    },
    "tags": []
   },
   "outputs": [
    {
     "data": {
      "text/plain": [
       "Text(0.5, 0, 'Contains Chocolate ?')"
      ]
     },
     "execution_count": 11,
     "metadata": {},
     "output_type": "execute_result"
    },
    {
     "data": {
      "image/png": "[encoded data removed]",
      "text/plain": [
       "<Figure size 1440x576 with 2 Axes>"
      ]
     },
     "metadata": {},
     "output_type": "display_data"
    }
   ],
   "source": [
    "plt.figure(figsize=(20,8))\n",
    "plt.suptitle(\"Chocolate Plots\", fontsize=20)\n",
    "\n",
    "plt.subplot(1,3,2)\n",
    "plt.title(\"Price percentage with and without Chocolate\",fontsize=16)\n",
    "sns.boxplot(y=\"pricepercent\", x=\"chocolate\", data=candy_df, palette=\"gray\")\n",
    "plt.xlabel(\"Contains Chocolate ?\")\n",
    "\n",
    "plt.subplot(1,3,3)\n",
    "plt.title(\"Wining precentage with and without Chocolate\",fontsize=16)\n",
    "sns.violinplot(data=candy_df,x=\"chocolate\",y=\"winpercent\",palette=\"gray_r\")\n",
    "plt.xlabel(\"Contains Chocolate ?\")"
   ]
  },
  {
   "cell_type": "markdown",
   "metadata": {
    "papermill": {
     "duration": 0.049631,
     "end_time": "2022-01-12T23:51:49.393155",
     "exception": false,
     "start_time": "2022-01-12T23:51:49.343524",
     "status": "completed"
    },
    "tags": []
   },
   "source": [
    "Observations\n",
    "\n",
    "* Chocolate is the key for win (nothing without chocolate has more than 80 as a winning score)\n",
    "* Chocolate is generally pricey."
   ]
  },
  {
   "cell_type": "markdown",
   "metadata": {
    "papermill": {
     "duration": 0.050863,
     "end_time": "2022-01-12T23:51:49.493207",
     "exception": false,
     "start_time": "2022-01-12T23:51:49.442344",
     "status": "completed"
    },
    "tags": []
   },
   "source": [
    "### Caramel"
   ]
  },
  {
   "cell_type": "code",
   "execution_count": 12,
   "metadata": {
    "_kg_hide-input": true,
    "execution": {
     "iopub.execute_input": "2022-01-12T23:51:49.626312Z",
     "iopub.status.busy": "2022-01-12T23:51:49.625528Z",
     "iopub.status.idle": "2022-01-12T23:51:49.980566Z",
     "shell.execute_reply": "2022-01-12T23:51:49.981121Z",
     "shell.execute_reply.started": "2022-01-12T23:47:51.083548Z"
    },
    "papermill": {
     "duration": 0.43908,
     "end_time": "2022-01-12T23:51:49.981355",
     "exception": false,
     "start_time": "2022-01-12T23:51:49.542275",
     "status": "completed"
    },
    "tags": []
   },
   "outputs": [
    {
     "data": {
      "image/png": "[encoded data removed]",
      "text/plain": [
       "<Figure size 1440x576 with 2 Axes>"
      ]
     },
     "metadata": {},
     "output_type": "display_data"
    }
   ],
   "source": [
    "plt.figure(figsize=(20,8))\n",
    "plt.suptitle(\"Caramel Plots\", fontsize=20)\n",
    "\n",
    "plt.subplot(1,3,1)\n",
    "plt.title(\"Wining precentage with and without Caramel\",fontsize=16)\n",
    "sns.violinplot(data=candy_df,x=\"caramel\",y=\"winpercent\",palette=\"YlOrRd\")\n",
    "plt.xlabel(\"Contains Caramel ?\")\n",
    "\n",
    "plt.subplot(1,3,2)\n",
    "plt.title(\"Price percentage with and without Caramel\",fontsize=16)\n",
    "sns.boxplot(y=\"pricepercent\", x=\"caramel\", data=candy_df, palette=\"YlOrRd\")\n",
    "plt.xlabel(\"Contains Caramel ?\")\n",
    "\n",
    "plt.show()"
   ]
  },
  {
   "cell_type": "markdown",
   "metadata": {
    "papermill": {
     "duration": 0.05184,
     "end_time": "2022-01-12T23:51:50.087106",
     "exception": false,
     "start_time": "2022-01-12T23:51:50.035266",
     "status": "completed"
    },
    "tags": []
   },
   "source": [
    "Observationse\n",
    "\n",
    "* Caramal does have a slight effect on winning.\n",
    "* It's not super costly but since it is generally used with multiple ingredients it has higher price."
   ]
  },
  {
   "cell_type": "markdown",
   "metadata": {
    "papermill": {
     "duration": 0.050941,
     "end_time": "2022-01-12T23:51:50.190346",
     "exception": false,
     "start_time": "2022-01-12T23:51:50.139405",
     "status": "completed"
    },
    "tags": []
   },
   "source": [
    "## Fruity"
   ]
  },
  {
   "cell_type": "code",
   "execution_count": 13,
   "metadata": {
    "execution": {
     "iopub.execute_input": "2022-01-12T23:51:50.298263Z",
     "iopub.status.busy": "2022-01-12T23:51:50.297368Z",
     "iopub.status.idle": "2022-01-12T23:51:50.697013Z",
     "shell.execute_reply": "2022-01-12T23:51:50.696119Z",
     "shell.execute_reply.started": "2022-01-12T23:47:51.425678Z"
    },
    "papermill": {
     "duration": 0.455605,
     "end_time": "2022-01-12T23:51:50.697221",
     "exception": false,
     "start_time": "2022-01-12T23:51:50.241616",
     "status": "completed"
    },
    "tags": []
   },
   "outputs": [
    {
     "data": {
      "image/png": "[encoded data removed]",
      "text/plain": [
       "<Figure size 1440x576 with 2 Axes>"
      ]
     },
     "metadata": {},
     "output_type": "display_data"
    }
   ],
   "source": [
    "plt.figure(figsize=(20,8))\n",
    "plt.suptitle(\"Fruit Plots\", fontsize=20)\n",
    "\n",
    "plt.subplot(1,3,1)\n",
    "plt.title(\"Wining precentage with and without Fruits\",fontsize=16)\n",
    "sns.violinplot(data=candy_df,x=\"fruity\",y=\"winpercent\",palette=\"husl\")\n",
    "plt.xlabel(\"Contains Fruits ?\")\n",
    "\n",
    "plt.subplot(1,3,2)\n",
    "plt.title(\"Price percentage with and without Fruits\",fontsize=16)\n",
    "sns.boxplot(y=\"pricepercent\", x=\"fruity\", data=candy_df, palette=\"gist_stern_r\")\n",
    "plt.xlabel(\"Contains Fruits ?\")\n",
    "\n",
    "plt.show()"
   ]
  },
  {
   "cell_type": "markdown",
   "metadata": {
    "papermill": {
     "duration": 0.052304,
     "end_time": "2022-01-12T23:51:50.802790",
     "exception": false,
     "start_time": "2022-01-12T23:51:50.750486",
     "status": "completed"
    },
    "tags": []
   },
   "source": [
    "Observations:\n",
    "\n",
    "* Fruits are not good for winning. Best score from fruity candy is close to 80, and mean score around 40s.\n",
    "* fruit-flavored candies are sold at significantly lower prices than average."
   ]
  },
  {
   "cell_type": "markdown",
   "metadata": {
    "papermill": {
     "duration": 0.052223,
     "end_time": "2022-01-12T23:51:50.907739",
     "exception": false,
     "start_time": "2022-01-12T23:51:50.855516",
     "status": "completed"
    },
    "tags": []
   },
   "source": [
    "## Peanut"
   ]
  },
  {
   "cell_type": "code",
   "execution_count": 14,
   "metadata": {
    "execution": {
     "iopub.execute_input": "2022-01-12T23:51:51.019004Z",
     "iopub.status.busy": "2022-01-12T23:51:51.017946Z",
     "iopub.status.idle": "2022-01-12T23:51:51.401182Z",
     "shell.execute_reply": "2022-01-12T23:51:51.401759Z",
     "shell.execute_reply.started": "2022-01-12T23:47:51.754799Z"
    },
    "papermill": {
     "duration": 0.441101,
     "end_time": "2022-01-12T23:51:51.401991",
     "exception": false,
     "start_time": "2022-01-12T23:51:50.960890",
     "status": "completed"
    },
    "tags": []
   },
   "outputs": [
    {
     "data": {
      "image/png": "[encoded data removed]",
      "text/plain": [
       "<Figure size 1440x576 with 2 Axes>"
      ]
     },
     "metadata": {},
     "output_type": "display_data"
    }
   ],
   "source": [
    "plt.figure(figsize=(20,8))\n",
    "plt.suptitle(\"Peanut Plots\", fontsize=20)\n",
    "\n",
    "plt.subplot(1,3,1)\n",
    "plt.title(\"Wining precentage with and without Peanut\",fontsize=16)\n",
    "sns.violinplot(data=candy_df,x=\"peanutyalmondy\",y=\"winpercent\",palette=\"YlOrBr_r\")\n",
    "plt.xlabel(\"Contains Peanut ?\")\n",
    "\n",
    "plt.subplot(1,3,2)\n",
    "plt.title(\"Price percentage with and without Peanut\",fontsize=16)\n",
    "sns.boxplot(y=\"pricepercent\", x=\"peanutyalmondy\", data=candy_df, palette=\"YlOrBr\")\n",
    "plt.xlabel(\"Contains Peanut ?\")\n",
    "\n",
    "plt.show()"
   ]
  },
  {
   "cell_type": "markdown",
   "metadata": {
    "papermill": {
     "duration": 0.05436,
     "end_time": "2022-01-12T23:51:51.510731",
     "exception": false,
     "start_time": "2022-01-12T23:51:51.456371",
     "status": "completed"
    },
    "tags": []
   },
   "source": [
    "Observations:\n",
    "\n",
    "* Peanut is also key of Winning.\n",
    "* Also expensive."
   ]
  },
  {
   "cell_type": "markdown",
   "metadata": {
    "papermill": {
     "duration": 0.054871,
     "end_time": "2022-01-12T23:51:51.621004",
     "exception": false,
     "start_time": "2022-01-12T23:51:51.566133",
     "status": "completed"
    },
    "tags": []
   },
   "source": [
    "## Nougat"
   ]
  },
  {
   "cell_type": "code",
   "execution_count": 15,
   "metadata": {
    "execution": {
     "iopub.execute_input": "2022-01-12T23:51:51.735091Z",
     "iopub.status.busy": "2022-01-12T23:51:51.734013Z",
     "iopub.status.idle": "2022-01-12T23:51:52.116831Z",
     "shell.execute_reply": "2022-01-12T23:51:52.117383Z",
     "shell.execute_reply.started": "2022-01-12T23:47:52.089541Z"
    },
    "papermill": {
     "duration": 0.442059,
     "end_time": "2022-01-12T23:51:52.117582",
     "exception": false,
     "start_time": "2022-01-12T23:51:51.675523",
     "status": "completed"
    },
    "tags": []
   },
   "outputs": [
    {
     "data": {
      "image/png": "[encoded data removed]",
      "text/plain": [
       "<Figure size 1440x576 with 2 Axes>"
      ]
     },
     "metadata": {},
     "output_type": "display_data"
    }
   ],
   "source": [
    "plt.figure(figsize=(20,8))\n",
    "plt.suptitle(\"Nougat Plots\", fontsize=20)\n",
    "\n",
    "plt.subplot(1,3,1)\n",
    "plt.title(\"Wining precentage with and without Nougat\",fontsize=16)\n",
    "sns.violinplot(data=candy_df,x=\"nougat\",y=\"winpercent\",palette=\"pink\")\n",
    "plt.xlabel(\"Contains Nougat ?\")\n",
    "\n",
    "plt.subplot(1,3,2)\n",
    "plt.title(\"Price percentage with and without Nougat\",fontsize=16)\n",
    "sns.boxplot(y=\"pricepercent\", x=\"nougat\", data=candy_df, palette=\"pink\")\n",
    "plt.xlabel(\"Contains Nougat ?\")\n",
    "\n",
    "plt.show()"
   ]
  },
  {
   "cell_type": "markdown",
   "metadata": {
    "papermill": {
     "duration": 0.056311,
     "end_time": "2022-01-12T23:51:52.230601",
     "exception": false,
     "start_time": "2022-01-12T23:51:52.174290",
     "status": "completed"
    },
    "tags": []
   },
   "source": [
    "Observations:\n",
    "\n",
    "* It has small effect on winning. general scores are between 60 and 80.\n",
    "* Slightly more expensive than the others."
   ]
  },
  {
   "cell_type": "markdown",
   "metadata": {
    "papermill": {
     "duration": 0.056305,
     "end_time": "2022-01-12T23:51:52.343785",
     "exception": false,
     "start_time": "2022-01-12T23:51:52.287480",
     "status": "completed"
    },
    "tags": []
   },
   "source": [
    "## Crisped Rice or Wafer"
   ]
  },
  {
   "cell_type": "code",
   "execution_count": 16,
   "metadata": {
    "execution": {
     "iopub.execute_input": "2022-01-12T23:51:52.461620Z",
     "iopub.status.busy": "2022-01-12T23:51:52.460935Z",
     "iopub.status.idle": "2022-01-12T23:51:52.835234Z",
     "shell.execute_reply": "2022-01-12T23:51:52.834675Z",
     "shell.execute_reply.started": "2022-01-12T23:47:52.423555Z"
    },
    "papermill": {
     "duration": 0.433813,
     "end_time": "2022-01-12T23:51:52.835384",
     "exception": false,
     "start_time": "2022-01-12T23:51:52.401571",
     "status": "completed"
    },
    "tags": []
   },
   "outputs": [
    {
     "data": {
      "image/png": "[encoded data removed]",
      "text/plain": [
       "<Figure size 1800x576 with 2 Axes>"
      ]
     },
     "metadata": {},
     "output_type": "display_data"
    }
   ],
   "source": [
    "plt.figure(figsize=(25,8))\n",
    "plt.suptitle(\"Crisped Rice or Wafer Plots\", fontsize=20)\n",
    "\n",
    "plt.subplot(1,3,1)\n",
    "plt.title(\"Wining precentage with and without crispedricewafer\",fontsize=16)\n",
    "sns.violinplot(data=candy_df,x=\"crispedricewafer\",y=\"winpercent\",palette=\"Spectral_r\")\n",
    "plt.xlabel(\"Contains Crisped Rice or Wafer ?\")\n",
    "\n",
    "plt.subplot(1,3,2)\n",
    "plt.title(\"Price percentage with and without Crisped Rice or Wafer\",fontsize=16)\n",
    "sns.boxplot(y=\"pricepercent\", x=\"crispedricewafer\", data=candy_df, palette=\"Spectral_r\")\n",
    "plt.xlabel(\"Contains Crisped Rice or Wafer ?\")\n",
    "\n",
    "plt.show()"
   ]
  },
  {
   "cell_type": "markdown",
   "metadata": {
    "papermill": {
     "duration": 0.058019,
     "end_time": "2022-01-12T23:51:52.951900",
     "exception": false,
     "start_time": "2022-01-12T23:51:52.893881",
     "status": "completed"
    },
    "tags": []
   },
   "source": [
    "Observations:\n",
    "\n",
    "* It has considerably good effect on winning. Minimun score is 40, which is a good sign\n",
    "* More expensive than the others."
   ]
  },
  {
   "cell_type": "markdown",
   "metadata": {
    "papermill": {
     "duration": 0.057414,
     "end_time": "2022-01-12T23:51:53.067431",
     "exception": false,
     "start_time": "2022-01-12T23:51:53.010017",
     "status": "completed"
    },
    "tags": []
   },
   "source": [
    "# 2- Cluster Analysis"
   ]
  },
  {
   "cell_type": "markdown",
   "metadata": {
    "papermill": {
     "duration": 0.057511,
     "end_time": "2022-01-12T23:51:53.183009",
     "exception": false,
     "start_time": "2022-01-12T23:51:53.125498",
     "status": "completed"
    },
    "tags": []
   },
   "source": [
    "We will leverage cluster analysis to understand how many groups we have in our data, what is the average win percent of each cluster, and what is the characteristics of the class with high average win percent.\n",
    "\n",
    "K-Means is an unsupervised clustering algorithm that groups data into k number of clusters. The number of clusters is user-defined.\n",
    "Therefore we have to come up with a technique that somehow will help us decide how many clusters we should use for the K-Means model.\n",
    "\n",
    "The Elbow method is a very popular technique and the idea is to run k-means clustering for a range of clusters k (let’s say from 1 to 12) and for each value, we are calculating the sum of squared distances from each point to its assigned center(distortions).\n",
    "\n",
    "When the distortions are plotted and the plot looks like an arm then the “elbow”(the point of inflection on the curve) is the best value of k."
   ]
  },
  {
   "cell_type": "markdown",
   "metadata": {
    "papermill": {
     "duration": 0.057786,
     "end_time": "2022-01-12T23:51:53.298424",
     "exception": false,
     "start_time": "2022-01-12T23:51:53.240638",
     "status": "completed"
    },
    "tags": []
   },
   "source": [
    "In our case by applying the Elbow method to the Candy dataset without win percent feature, we are getting the following plot."
   ]
  },
  {
   "cell_type": "code",
   "execution_count": 17,
   "metadata": {
    "execution": {
     "iopub.execute_input": "2022-01-12T23:51:53.422902Z",
     "iopub.status.busy": "2022-01-12T23:51:53.417186Z",
     "iopub.status.idle": "2022-01-12T23:51:54.582215Z",
     "shell.execute_reply": "2022-01-12T23:51:54.582718Z",
     "shell.execute_reply.started": "2022-01-12T23:47:52.765606Z"
    },
    "papermill": {
     "duration": 1.226173,
     "end_time": "2022-01-12T23:51:54.582918",
     "exception": false,
     "start_time": "2022-01-12T23:51:53.356745",
     "status": "completed"
    },
    "tags": []
   },
   "outputs": [
    {
     "data": {
      "image/png": "[encoded data removed]",
      "text/plain": [
       "<Figure size 576x396 with 2 Axes>"
      ]
     },
     "metadata": {},
     "output_type": "display_data"
    },
    {
     "data": {
      "text/plain": [
       "<AxesSubplot:title={'center':'Distortion Score Elbow for KMeans Clustering'}, xlabel='k', ylabel='distortion score'>"
      ]
     },
     "execution_count": 17,
     "metadata": {},
     "output_type": "execute_result"
    }
   ],
   "source": [
    "candy_df_wo_win = candy_df.drop(['competitorname','winpercent'], axis=1)\n",
    "model = KMeans()\n",
    "visualizer = KElbowVisualizer(model, k=(1,12)).fit(candy_df_wo_win)\n",
    "visualizer.show()"
   ]
  },
  {
   "cell_type": "markdown",
   "metadata": {
    "papermill": {
     "duration": 0.060015,
     "end_time": "2022-01-12T23:51:54.702928",
     "exception": false,
     "start_time": "2022-01-12T23:51:54.642913",
     "status": "completed"
    },
    "tags": []
   },
   "source": [
    "The Elbow method is saying that the optimal number of clusters in the candy data without the win percent column is 3 classes. Therefore in the next step,  apply K-means to our data set with for extracting 3 classes. "
   ]
  },
  {
   "cell_type": "code",
   "execution_count": 18,
   "metadata": {
    "execution": {
     "iopub.execute_input": "2022-01-12T23:51:54.832574Z",
     "iopub.status.busy": "2022-01-12T23:51:54.831832Z",
     "iopub.status.idle": "2022-01-12T23:51:54.861718Z",
     "shell.execute_reply": "2022-01-12T23:51:54.861129Z",
     "shell.execute_reply.started": "2022-01-12T23:47:53.764262Z"
    },
    "papermill": {
     "duration": 0.098244,
     "end_time": "2022-01-12T23:51:54.861876",
     "exception": false,
     "start_time": "2022-01-12T23:51:54.763632",
     "status": "completed"
    },
    "tags": []
   },
   "outputs": [],
   "source": [
    "kmeans = KMeans(n_clusters=3, init='k-means++', random_state=0).fit(candy_df_wo_win)"
   ]
  },
  {
   "cell_type": "code",
   "execution_count": 19,
   "metadata": {
    "execution": {
     "iopub.execute_input": "2022-01-12T23:51:54.992167Z",
     "iopub.status.busy": "2022-01-12T23:51:54.991401Z",
     "iopub.status.idle": "2022-01-12T23:51:54.995498Z",
     "shell.execute_reply": "2022-01-12T23:51:54.994908Z",
     "shell.execute_reply.started": "2022-01-12T23:47:53.796406Z"
    },
    "papermill": {
     "duration": 0.073609,
     "end_time": "2022-01-12T23:51:54.995642",
     "exception": false,
     "start_time": "2022-01-12T23:51:54.922033",
     "status": "completed"
    },
    "tags": []
   },
   "outputs": [
    {
     "data": {
      "text/plain": [
       "cluster\n",
       "0    43.703954\n",
       "1    61.295413\n",
       "2    51.731795\n",
       "Name: winpercent, dtype: float64"
      ]
     },
     "execution_count": 19,
     "metadata": {},
     "output_type": "execute_result"
    }
   ],
   "source": [
    "# Add a column for cluster label\n",
    "candy_df['cluster'] = kmeans.labels_\n",
    "candy_df.groupby([\"cluster\"])[\"winpercent\"].mean()"
   ]
  },
  {
   "cell_type": "markdown",
   "metadata": {
    "papermill": {
     "duration": 0.060738,
     "end_time": "2022-01-12T23:51:55.117340",
     "exception": false,
     "start_time": "2022-01-12T23:51:55.056602",
     "status": "completed"
    },
    "tags": []
   },
   "source": [
    "We applied K-means without win percent, now we can map win percent to each class and see the average win percent of each class"
   ]
  },
  {
   "cell_type": "code",
   "execution_count": 20,
   "metadata": {
    "execution": {
     "iopub.execute_input": "2022-01-12T23:51:55.286831Z",
     "iopub.status.busy": "2022-01-12T23:51:55.272587Z",
     "iopub.status.idle": "2022-01-12T23:51:55.463743Z",
     "shell.execute_reply": "2022-01-12T23:51:55.464443Z",
     "shell.execute_reply.started": "2022-01-12T23:47:53.805652Z"
    },
    "papermill": {
     "duration": 0.283497,
     "end_time": "2022-01-12T23:51:55.464651",
     "exception": false,
     "start_time": "2022-01-12T23:51:55.181154",
     "status": "completed"
    },
    "tags": []
   },
   "outputs": [
    {
     "name": "stderr",
     "output_type": "stream",
     "text": [
      "/opt/conda/lib/python3.7/site-packages/ipykernel_launcher.py:10: MatplotlibDeprecationWarning: The 'b' parameter of grid() has been renamed 'visible' since Matplotlib 3.5; support for the old name will be dropped two minor releases later.\n",
      "  # Remove the CWD from sys.path while we load stuff.\n"
     ]
    },
    {
     "data": {
      "image/png": "[encoded data removed]",
      "text/plain": [
       "<Figure size 720x432 with 1 Axes>"
      ]
     },
     "metadata": {},
     "output_type": "display_data"
    }
   ],
   "source": [
    "candy_df_clustered = candy_df.groupby([\"cluster\"])[\"winpercent\"].mean()\n",
    "fig = candy_df_clustered.plot.bar(figsize=(10,6))\n",
    "fig.set_title('Average Win Percentage Per Cluster', fontsize=18)\n",
    "fig.set_xlabel('Cluster', fontsize=15)\n",
    "fig.set_ylabel('Win Percentage', fontsize=15)\n",
    "x = [0, 1, 2]    \n",
    "y = [43.7, 61.3, 51.7]\n",
    "for i in range (len (x)):\n",
    "    plt.text(i, y[i], y[i], ha = 'center', va='bottom', fontsize=15, color='blue')\n",
    "plt.grid(b=None)\n",
    "plt.xticks(fontsize=13)\n",
    "plt.show()"
   ]
  },
  {
   "cell_type": "markdown",
   "metadata": {
    "execution": {
     "iopub.execute_input": "2022-01-09T23:30:47.506908Z",
     "iopub.status.busy": "2022-01-09T23:30:47.506474Z",
     "iopub.status.idle": "2022-01-09T23:30:47.516221Z",
     "shell.execute_reply": "2022-01-09T23:30:47.515088Z",
     "shell.execute_reply.started": "2022-01-09T23:30:47.506877Z"
    },
    "papermill": {
     "duration": 0.065416,
     "end_time": "2022-01-12T23:51:55.593185",
     "exception": false,
     "start_time": "2022-01-12T23:51:55.527769",
     "status": "completed"
    },
    "tags": []
   },
   "source": [
    "As you can see here, entities that are in class 0, have 43.7% as average win percent and the class 1 and 2 has 61.3% and 51.7%, respectively. Therefore if we want to have a new product with a high win percent rate we need to understand the patterns of features in class 1."
   ]
  },
  {
   "cell_type": "markdown",
   "metadata": {
    "papermill": {
     "duration": 0.062368,
     "end_time": "2022-01-12T23:51:55.720504",
     "exception": false,
     "start_time": "2022-01-12T23:51:55.658136",
     "status": "completed"
    },
    "tags": []
   },
   "source": [
    "Now we can extract all entities that are in class 1 and we can calculate the average value of each feature in this class"
   ]
  },
  {
   "cell_type": "code",
   "execution_count": 21,
   "metadata": {
    "execution": {
     "iopub.execute_input": "2022-01-12T23:51:55.862088Z",
     "iopub.status.busy": "2022-01-12T23:51:55.861264Z",
     "iopub.status.idle": "2022-01-12T23:51:56.179628Z",
     "shell.execute_reply": "2022-01-12T23:51:56.180161Z",
     "shell.execute_reply.started": "2022-01-12T23:47:54.028886Z"
    },
    "papermill": {
     "duration": 0.39202,
     "end_time": "2022-01-12T23:51:56.180359",
     "exception": false,
     "start_time": "2022-01-12T23:51:55.788339",
     "status": "completed"
    },
    "tags": []
   },
   "outputs": [
    {
     "name": "stderr",
     "output_type": "stream",
     "text": [
      "/opt/conda/lib/python3.7/site-packages/ipykernel_launcher.py:14: MatplotlibDeprecationWarning: The 'b' parameter of grid() has been renamed 'visible' since Matplotlib 3.5; support for the old name will be dropped two minor releases later.\n",
      "  \n"
     ]
    },
    {
     "data": {
      "image/png": "[encoded data removed]",
      "text/plain": [
       "<Figure size 1296x576 with 1 Axes>"
      ]
     },
     "metadata": {},
     "output_type": "display_data"
    }
   ],
   "source": [
    "candy_df_class_1 = candy_df[candy_df['cluster'] == 1]\n",
    "candy_df_class_1 = candy_df_class_1.drop(['competitorname', 'winpercent', 'cluster'], axis=1)\n",
    "candy_df_class_1.mean().sort_values()\n",
    "candy_df_class_1 = candy_df_class_1.reindex(candy_df_class_1.mean().sort_values().index, axis=1)\n",
    "x = candy_df_class_1.columns.tolist()   \n",
    "y = [round(l, 2) for l in candy_df_class_1.mean().tolist()]\n",
    "fig = plt.figure(figsize = (18, 8))\n",
    "plt.bar(x, y, width = 0.4)\n",
    "plt.title('Percentage Of Features in the cluster with the high win percent rate', fontsize=20)\n",
    "plt.xlabel('Candy Caracteristics', fontsize=15)\n",
    "plt.ylabel('Average', fontsize=15)\n",
    "for i in range (len (x)):\n",
    "    plt.text(i, y[i], y[i], ha = 'center', va='bottom', fontsize=15, color='blue')\n",
    "plt.grid(b=None)\n",
    "plt.xticks(fontsize=13, rotation=45)\n",
    "plt.show()"
   ]
  },
  {
   "cell_type": "markdown",
   "metadata": {
    "papermill": {
     "duration": 0.066603,
     "end_time": "2022-01-12T23:51:56.312319",
     "exception": false,
     "start_time": "2022-01-12T23:51:56.245716",
     "status": "completed"
    },
    "tags": []
   },
   "source": [
    "From the bar plot, we can see that in class 1 which is the highest win percent class, all of the entities have Bar, 95% has Chocolate, price percent is 73%, and sugar percent is 53%, but entities in this class do not have Pluribus, Hard, and Fruity.\n",
    "Peanuts, caramel, nougat, etc have a positive effect, so composite candy should have higher rating.\n",
    "Therefore we can consider this rule:\n",
    "\n",
    "**USE Chocolate in bar form, containing caramel, nougat, peanuts/almonds, crisped rice/wafer & price 73%, sugar 53% & DO NOT USE Pluribus, Hard, and Fruity**\n",
    "\n",
    "**main material:**\n",
    "+ chocolate\n",
    "\n",
    "**additional:**\n",
    "+ caramel\n",
    "+ nougat\n",
    "+ peanuts and almonds\n",
    "+ crisped rice/wafer\n",
    "\n",
    "**form:**\n",
    "+ bar"
   ]
  },
  {
   "cell_type": "markdown",
   "metadata": {
    "papermill": {
     "duration": 0.065652,
     "end_time": "2022-01-12T23:51:56.444022",
     "exception": false,
     "start_time": "2022-01-12T23:51:56.378370",
     "status": "completed"
    },
    "tags": []
   },
   "source": [
    "# 3- Predictive Analysis"
   ]
  },
  {
   "cell_type": "markdown",
   "metadata": {
    "papermill": {
     "duration": 0.064625,
     "end_time": "2022-01-12T23:51:56.579095",
     "exception": false,
     "start_time": "2022-01-12T23:51:56.514470",
     "status": "completed"
    },
    "tags": []
   },
   "source": [
    "* A predictive analysis is important if we want to have an idea how much the new candy is accepted or not. It is not perfect but it minimizes the risk of going through development, marketing and production of a new candy.\n",
    "* Clustering gives us patterns of a subset in the data, but we want to see the general behaviors of high win percent products in our dataset. For finding this general pattern, we have to use a regression model.\n",
    "* As our data is not too big, we will apply Random Forest Regressor from sklearn package in python to predict win percent.\n",
    "* For the model evaluation, we will use the root mean squared error as metric. \n",
    "* We will also leverage the Random Forest Regressor model to look at the feature importance. "
   ]
  },
  {
   "cell_type": "code",
   "execution_count": 22,
   "metadata": {
    "execution": {
     "iopub.execute_input": "2022-01-12T23:51:56.715272Z",
     "iopub.status.busy": "2022-01-12T23:51:56.714523Z",
     "iopub.status.idle": "2022-01-12T23:51:56.726185Z",
     "shell.execute_reply": "2022-01-12T23:51:56.725468Z",
     "shell.execute_reply.started": "2022-01-12T23:47:54.311995Z"
    },
    "papermill": {
     "duration": 0.081191,
     "end_time": "2022-01-12T23:51:56.726348",
     "exception": false,
     "start_time": "2022-01-12T23:51:56.645157",
     "status": "completed"
    },
    "tags": []
   },
   "outputs": [],
   "source": [
    "candy_df = candy_df.drop(['cluster'], axis=1)\n",
    "# Split the data into training and test sets\n",
    "X_train, X_test, y_train, y_test = train_test_split(candy_df[candy_df.columns[1:-1]],candy_df[candy_df.columns[-1]], test_size=0.3, random_state=42)"
   ]
  },
  {
   "cell_type": "code",
   "execution_count": 23,
   "metadata": {
    "execution": {
     "iopub.execute_input": "2022-01-12T23:51:56.863349Z",
     "iopub.status.busy": "2022-01-12T23:51:56.862645Z",
     "iopub.status.idle": "2022-01-12T23:53:15.031086Z",
     "shell.execute_reply": "2022-01-12T23:53:15.031600Z",
     "shell.execute_reply.started": "2022-01-12T23:47:54.324739Z"
    },
    "papermill": {
     "duration": 78.2401,
     "end_time": "2022-01-12T23:53:15.031811",
     "exception": false,
     "start_time": "2022-01-12T23:51:56.791711",
     "status": "completed"
    },
    "tags": []
   },
   "outputs": [
    {
     "name": "stderr",
     "output_type": "stream",
     "text": [
      "/opt/conda/lib/python3.7/site-packages/sklearn/model_selection/_search.py:849: FutureWarning: The parameter 'iid' is deprecated in 0.22 and will be removed in 0.24.\n",
      "  \"removed in 0.24.\", FutureWarning\n"
     ]
    },
    {
     "data": {
      "text/plain": [
       "RandomForestRegressor(max_depth=10, min_samples_leaf=6, min_samples_split=10,\n",
       "                      n_estimators=160)"
      ]
     },
     "execution_count": 23,
     "metadata": {},
     "output_type": "execute_result"
    }
   ],
   "source": [
    "# Create a based model\n",
    "clf_rf = RandomForestRegressor()\n",
    "# Hyperparameters Tuning\n",
    "param_grid = {\n",
    "    'max_depth': [10, 15, 20],\n",
    "    'min_samples_leaf': [6, 7, 8, 9],\n",
    "    'min_samples_split': [10, 11, 12, 13],\n",
    "    'n_estimators': [130, 140, 150, 160]\n",
    "}\n",
    "# Instantiate the grid search model\n",
    "grid_search = GridSearchCV(estimator=clf_rf, param_grid=param_grid, n_jobs=4, iid=True, refit=True, cv=4, scoring='r2')\n",
    "# Fit the grid search to the data\n",
    "grid_search.fit(X_train,y_train)\n",
    "grid_search.best_estimator_"
   ]
  },
  {
   "cell_type": "code",
   "execution_count": 24,
   "metadata": {
    "execution": {
     "iopub.execute_input": "2022-01-12T23:53:15.165066Z",
     "iopub.status.busy": "2022-01-12T23:53:15.164296Z",
     "iopub.status.idle": "2022-01-12T23:53:15.183330Z",
     "shell.execute_reply": "2022-01-12T23:53:15.183875Z",
     "shell.execute_reply.started": "2022-01-12T23:48:58.087781Z"
    },
    "papermill": {
     "duration": 0.087586,
     "end_time": "2022-01-12T23:53:15.184060",
     "exception": false,
     "start_time": "2022-01-12T23:53:15.096474",
     "status": "completed"
    },
    "tags": []
   },
   "outputs": [
    {
     "data": {
      "text/plain": [
       "11.548350957214547"
      ]
     },
     "execution_count": 24,
     "metadata": {},
     "output_type": "execute_result"
    }
   ],
   "source": [
    "clf_rf_best = grid_search.best_estimator_\n",
    "# Perform prediction on the test set & calculate the mean squared error\n",
    "rmse_err = math.sqrt(mean_squared_error(y_test,clf_rf_best.predict(X_test)))\n",
    "rmse_err"
   ]
  },
  {
   "cell_type": "code",
   "execution_count": 25,
   "metadata": {
    "execution": {
     "iopub.execute_input": "2022-01-12T23:53:15.317234Z",
     "iopub.status.busy": "2022-01-12T23:53:15.316588Z",
     "iopub.status.idle": "2022-01-12T23:53:15.332853Z",
     "shell.execute_reply": "2022-01-12T23:53:15.333493Z",
     "shell.execute_reply.started": "2022-01-12T23:48:58.111882Z"
    },
    "papermill": {
     "duration": 0.084065,
     "end_time": "2022-01-12T23:53:15.333664",
     "exception": false,
     "start_time": "2022-01-12T23:53:15.249599",
     "status": "completed"
    },
    "tags": []
   },
   "outputs": [],
   "source": [
    "# Determine feature importance values\n",
    "importances = clf_rf_best.feature_importances_\n",
    "# Sort the feature importance in descending order\n",
    "sorted_indices = np.argsort(importances)[::-1]"
   ]
  },
  {
   "cell_type": "code",
   "execution_count": 26,
   "metadata": {
    "execution": {
     "iopub.execute_input": "2022-01-12T23:53:15.466844Z",
     "iopub.status.busy": "2022-01-12T23:53:15.466162Z",
     "iopub.status.idle": "2022-01-12T23:53:15.748413Z",
     "shell.execute_reply": "2022-01-12T23:53:15.748948Z",
     "shell.execute_reply.started": "2022-01-12T23:48:58.132037Z"
    },
    "papermill": {
     "duration": 0.35006,
     "end_time": "2022-01-12T23:53:15.749135",
     "exception": false,
     "start_time": "2022-01-12T23:53:15.399075",
     "status": "completed"
    },
    "tags": []
   },
   "outputs": [
    {
     "name": "stderr",
     "output_type": "stream",
     "text": [
      "/opt/conda/lib/python3.7/site-packages/ipykernel_launcher.py:6: MatplotlibDeprecationWarning: The 'b' parameter of grid() has been renamed 'visible' since Matplotlib 3.5; support for the old name will be dropped two minor releases later.\n",
      "  \n"
     ]
    },
    {
     "data": {
      "image/png": "[encoded data removed]",
      "text/plain": [
       "<Figure size 576x396 with 1 Axes>"
      ]
     },
     "metadata": {},
     "output_type": "display_data"
    }
   ],
   "source": [
    "# Visualize the feature importance \n",
    "plt.title('Feature Importance', fontsize=20)\n",
    "plt.bar(range(X_train.shape[1]), importances[sorted_indices], align='center')\n",
    "plt.xticks(range(X_train.shape[1]), X_train.columns[sorted_indices], rotation=90)\n",
    "plt.tight_layout()\n",
    "plt.grid(b=None)\n",
    "plt.xticks(fontsize=13)\n",
    "plt.show()"
   ]
  },
  {
   "cell_type": "markdown",
   "metadata": {
    "papermill": {
     "duration": 0.065841,
     "end_time": "2022-01-12T23:53:15.882310",
     "exception": false,
     "start_time": "2022-01-12T23:53:15.816469",
     "status": "completed"
    },
    "tags": []
   },
   "source": [
    "Overall for predicting the win percent of a new product, Chocolate, Sugar, bar, and Price are the most important features."
   ]
  },
  {
   "cell_type": "markdown",
   "metadata": {
    "papermill": {
     "duration": 0.067194,
     "end_time": "2022-01-12T23:53:16.015682",
     "exception": false,
     "start_time": "2022-01-12T23:53:15.948488",
     "status": "completed"
    },
    "tags": []
   },
   "source": [
    "## 4 - Summary & Recommendations"
   ]
  },
  {
   "cell_type": "markdown",
   "metadata": {
    "papermill": {
     "duration": 0.065982,
     "end_time": "2022-01-12T23:53:16.147978",
     "exception": false,
     "start_time": "2022-01-12T23:53:16.081996",
     "status": "completed"
    },
    "tags": []
   },
   "source": [
    "### We want to create a brand new candy\n",
    "\n",
    "* We decided to use a data-driven approach.\n",
    "* We collected data on products in the market and their characteristics and customer sentiment.\n",
    "\n",
    "### Through the analysis, our goal is \n",
    "* To understand the rules, patterns, or relations of features with win percent. If we understand these then we can map it to the new product.\n",
    "* To find out which product characteristics drive customer sentiment and subsequently make a recommendation on a new product.\n",
    "* To implement a Machine Learning pipeline to predict the win Percentage of a new candy.\n",
    "\n",
    "### WE CAME UP WITH THE FOLLOWING RECOMMENDATIONS & CONCLUSIONS\n",
    "* Our recommendation is a soft, non-fruity, one-bar candy with chocolate, nougat, caramel, nuts (peanuts, almonds, ..), and some crunch (cookies, waffles, ...). \n",
    "* We need to investigate the shopping patterns of customers (Are they health conscious? Do they buy what they like, or buy cheaper options?)\n",
    "* In the end, we need to combine the findings of this study with our investigations to design candy which people will like and will buy."
   ]
  }
 ],
 "metadata": {
  "kernelspec": {
   "display_name": "Python 3",
   "language": "python",
   "name": "python3"
  },
  "language_info": {
   "codemirror_mode": {
    "name": "ipython",
    "version": 3
   },
   "file_extension": ".py",
   "mimetype": "text/x-python",
   "name": "python",
   "nbconvert_exporter": "python",
   "pygments_lexer": "ipython3",
   "version": "3.6.9"
  },
  "papermill": {
   "default_parameters": {},
   "duration": 117.912092,
   "end_time": "2022-01-12T23:53:17.328843",
   "environment_variables": {},
   "exception": null,
   "input_path": "__notebook__.ipynb",
   "output_path": "__notebook__.ipynb",
   "parameters": {},
   "start_time": "2022-01-12T23:51:19.416751",
   "version": "2.3.3"
  },
  "widgets": {
   "application/vnd.jupyter.widget-state+json": {
    "state": {
     "03914f344a464a698ee58566729e8839": {
      "model_module": "@jupyter-widgets/controls",
      "model_module_version": "1.5.0",
      "model_name": "HTMLModel",
      "state": {
       "_dom_classes": [],
       "_model_module": "@jupyter-widgets/controls",
       "_model_module_version": "1.5.0",
       "_model_name": "HTMLModel",
       "_view_count": null,
       "_view_module": "@jupyter-widgets/controls",
       "_view_module_version": "1.5.0",
       "_view_name": "HTMLView",
       "description": "",
       "description_tooltip": null,
       "layout": "IPY_MODEL_111a3f28dbc3403fb129e5e315e9722a",
       "placeholder": "​",
       "style": "IPY_MODEL_d132f1a89ecc43b2a49ff4f355164ae4",
       "value": " 1/1 [00:01&lt;00:00,  1.02s/it]"
      }
     },
     "0f17f0db0efa46818208c2cec2d985fd": {
      "model_module": "@jupyter-widgets/controls",
      "model_module_version": "1.5.0",
      "model_name": "ProgressStyleModel",
      "state": {
       "_model_module": "@jupyter-widgets/controls",
       "_model_module_version": "1.5.0",
       "_model_name": "ProgressStyleModel",
       "_view_count": null,
       "_view_module": "@jupyter-widgets/base",
       "_view_module_version": "1.2.0",
       "_view_name": "StyleView",
       "bar_color": null,
       "description_width": ""
      }
     },
     "111a3f28dbc3403fb129e5e315e9722a": {
      "model_module": "@jupyter-widgets/base",
      "model_module_version": "1.2.0",
      "model_name": "LayoutModel",
      "state": {
       "_model_module": "@jupyter-widgets/base",
       "_model_module_version": "1.2.0",
       "_model_name": "LayoutModel",
       "_view_count": null,
       "_view_module": "@jupyter-widgets/base",
       "_view_module_version": "1.2.0",
       "_view_name": "LayoutView",
       "align_content": null,
       "align_items": null,
       "align_self": null,
       "border": null,
       "bottom": null,
       "display": null,
       "flex": null,
       "flex_flow": null,
       "grid_area": null,
       "grid_auto_columns": null,
       "grid_auto_flow": null,
       "grid_auto_rows": null,
       "grid_column": null,
       "grid_gap": null,
       "grid_row": null,
       "grid_template_areas": null,
       "grid_template_columns": null,
       "grid_template_rows": null,
       "height": null,
       "justify_content": null,
       "justify_items": null,
       "left": null,
       "margin": null,
       "max_height": null,
       "max_width": null,
       "min_height": null,
       "min_width": null,
       "object_fit": null,
       "object_position": null,
       "order": null,
       "overflow": null,
       "overflow_x": null,
       "overflow_y": null,
       "padding": null,
       "right": null,
       "top": null,
       "visibility": null,
       "width": null
      }
     },
     "1994dcb22edf4481b8720277a5f03338": {
      "model_module": "@jupyter-widgets/base",
      "model_module_version": "1.2.0",
      "model_name": "LayoutModel",
      "state": {
       "_model_module": "@jupyter-widgets/base",
       "_model_module_version": "1.2.0",
       "_model_name": "LayoutModel",
       "_view_count": null,
       "_view_module": "@jupyter-widgets/base",
       "_view_module_version": "1.2.0",
       "_view_name": "LayoutView",
       "align_content": null,
       "align_items": null,
       "align_self": null,
       "border": null,
       "bottom": null,
       "display": null,
       "flex": null,
       "flex_flow": null,
       "grid_area": null,
       "grid_auto_columns": null,
       "grid_auto_flow": null,
       "grid_auto_rows": null,
       "grid_column": null,
       "grid_gap": null,
       "grid_row": null,
       "grid_template_areas": null,
       "grid_template_columns": null,
       "grid_template_rows": null,
       "height": null,
       "justify_content": null,
       "justify_items": null,
       "left": null,
       "margin": null,
       "max_height": null,
       "max_width": null,
       "min_height": null,
       "min_width": null,
       "object_fit": null,
       "object_position": null,
       "order": null,
       "overflow": null,
       "overflow_x": null,
       "overflow_y": null,
       "padding": null,
       "right": null,
       "top": null,
       "visibility": null,
       "width": null
      }
     },
     "28306636e68a499393d0cc98b4a8ead3": {
      "model_module": "@jupyter-widgets/controls",
      "model_module_version": "1.5.0",
      "model_name": "DescriptionStyleModel",
      "state": {
       "_model_module": "@jupyter-widgets/controls",
       "_model_module_version": "1.5.0",
       "_model_name": "DescriptionStyleModel",
       "_view_count": null,
       "_view_module": "@jupyter-widgets/base",
       "_view_module_version": "1.2.0",
       "_view_name": "StyleView",
       "description_width": ""
      }
     },
     "2fe827638aea4cd9a445871b62c4c9a5": {
      "model_module": "@jupyter-widgets/controls",
      "model_module_version": "1.5.0",
      "model_name": "HTMLModel",
      "state": {
       "_dom_classes": [],
       "_model_module": "@jupyter-widgets/controls",
       "_model_module_version": "1.5.0",
       "_model_name": "HTMLModel",
       "_view_count": null,
       "_view_module": "@jupyter-widgets/controls",
       "_view_module_version": "1.5.0",
       "_view_name": "HTMLView",
       "description": "",
       "description_tooltip": null,
       "layout": "IPY_MODEL_4d05d94d25c64f5fb08b9645f2eef7d4",
       "placeholder": "​",
       "style": "IPY_MODEL_92ae3071403c4308a5138bafe5ad126f",
       "value": " 26/26 [00:05&lt;00:00,  2.90it/s, Completed]"
      }
     },
     "321c06eec8ac40bea90e23d58fb5447c": {
      "model_module": "@jupyter-widgets/controls",
      "model_module_version": "1.5.0",
      "model_name": "HBoxModel",
      "state": {
       "_dom_classes": [],
       "_model_module": "@jupyter-widgets/controls",
       "_model_module_version": "1.5.0",
       "_model_name": "HBoxModel",
       "_view_count": null,
       "_view_module": "@jupyter-widgets/controls",
       "_view_module_version": "1.5.0",
       "_view_name": "HBoxView",
       "box_style": "",
       "children": [
        "IPY_MODEL_f3240b57ca2c41a98bfd05f3c6d47162",
        "IPY_MODEL_5cb904d258f84c1d937bee71baec1dac",
        "IPY_MODEL_03914f344a464a698ee58566729e8839"
       ],
       "layout": "IPY_MODEL_1994dcb22edf4481b8720277a5f03338"
      }
     },
     "32ed587965714f508c868f0a7d3b2b90": {
      "model_module": "@jupyter-widgets/controls",
      "model_module_version": "1.5.0",
      "model_name": "FloatProgressModel",
      "state": {
       "_dom_classes": [],
       "_model_module": "@jupyter-widgets/controls",
       "_model_module_version": "1.5.0",
       "_model_name": "FloatProgressModel",
       "_view_count": null,
       "_view_module": "@jupyter-widgets/controls",
       "_view_module_version": "1.5.0",
       "_view_name": "ProgressView",
       "bar_style": "success",
       "description": "",
       "description_tooltip": null,
       "layout": "IPY_MODEL_bb00420e27fe427aa1ad8ff57b7d55a0",
       "max": 1,
       "min": 0,
       "orientation": "horizontal",
       "style": "IPY_MODEL_0f17f0db0efa46818208c2cec2d985fd",
       "value": 1
      }
     },
     "36f67f8fbc194d6da536afb383e159d7": {
      "model_module": "@jupyter-widgets/controls",
      "model_module_version": "1.5.0",
      "model_name": "DescriptionStyleModel",
      "state": {
       "_model_module": "@jupyter-widgets/controls",
       "_model_module_version": "1.5.0",
       "_model_name": "DescriptionStyleModel",
       "_view_count": null,
       "_view_module": "@jupyter-widgets/base",
       "_view_module_version": "1.2.0",
       "_view_name": "StyleView",
       "description_width": ""
      }
     },
     "415f8f8e892b4841bb96affe35352aab": {
      "model_module": "@jupyter-widgets/base",
      "model_module_version": "1.2.0",
      "model_name": "LayoutModel",
      "state": {
       "_model_module": "@jupyter-widgets/base",
       "_model_module_version": "1.2.0",
       "_model_name": "LayoutModel",
       "_view_count": null,
       "_view_module": "@jupyter-widgets/base",
       "_view_module_version": "1.2.0",
       "_view_name": "LayoutView",
       "align_content": null,
       "align_items": null,
       "align_self": null,
       "border": null,
       "bottom": null,
       "display": null,
       "flex": null,
       "flex_flow": null,
       "grid_area": null,
       "grid_auto_columns": null,
       "grid_auto_flow": null,
       "grid_auto_rows": null,
       "grid_column": null,
       "grid_gap": null,
       "grid_row": null,
       "grid_template_areas": null,
       "grid_template_columns": null,
       "grid_template_rows": null,
       "height": null,
       "justify_content": null,
       "justify_items": null,
       "left": null,
       "margin": null,
       "max_height": null,
       "max_width": null,
       "min_height": null,
       "min_width": null,
       "object_fit": null,
       "object_position": null,
       "order": null,
       "overflow": null,
       "overflow_x": null,
       "overflow_y": null,
       "padding": null,
       "right": null,
       "top": null,
       "visibility": null,
       "width": null
      }
     },
     "465200a8e7834c06a6b28940ba188055": {
      "model_module": "@jupyter-widgets/base",
      "model_module_version": "1.2.0",
      "model_name": "LayoutModel",
      "state": {
       "_model_module": "@jupyter-widgets/base",
       "_model_module_version": "1.2.0",
       "_model_name": "LayoutModel",
       "_view_count": null,
       "_view_module": "@jupyter-widgets/base",
       "_view_module_version": "1.2.0",
       "_view_name": "LayoutView",
       "align_content": null,
       "align_items": null,
       "align_self": null,
       "border": null,
       "bottom": null,
       "display": null,
       "flex": null,
       "flex_flow": null,
       "grid_area": null,
       "grid_auto_columns": null,
       "grid_auto_flow": null,
       "grid_auto_rows": null,
       "grid_column": null,
       "grid_gap": null,
       "grid_row": null,
       "grid_template_areas": null,
       "grid_template_columns": null,
       "grid_template_rows": null,
       "height": null,
       "justify_content": null,
       "justify_items": null,
       "left": null,
       "margin": null,
       "max_height": null,
       "max_width": null,
       "min_height": null,
       "min_width": null,
       "object_fit": null,
       "object_position": null,
       "order": null,
       "overflow": null,
       "overflow_x": null,
       "overflow_y": null,
       "padding": null,
       "right": null,
       "top": null,
       "visibility": null,
       "width": null
      }
     },
     "4a3558aaa1e4475880f73655fb521280": {
      "model_module": "@jupyter-widgets/base",
      "model_module_version": "1.2.0",
      "model_name": "LayoutModel",
      "state": {
       "_model_module": "@jupyter-widgets/base",
       "_model_module_version": "1.2.0",
       "_model_name": "LayoutModel",
       "_view_count": null,
       "_view_module": "@jupyter-widgets/base",
       "_view_module_version": "1.2.0",
       "_view_name": "LayoutView",
       "align_content": null,
       "align_items": null,
       "align_self": null,
       "border": null,
       "bottom": null,
       "display": null,
       "flex": null,
       "flex_flow": null,
       "grid_area": null,
       "grid_auto_columns": null,
       "grid_auto_flow": null,
       "grid_auto_rows": null,
       "grid_column": null,
       "grid_gap": null,
       "grid_row": null,
       "grid_template_areas": null,
       "grid_template_columns": null,
       "grid_template_rows": null,
       "height": null,
       "justify_content": null,
       "justify_items": null,
       "left": null,
       "margin": null,
       "max_height": null,
       "max_width": null,
       "min_height": null,
       "min_width": null,
       "object_fit": null,
       "object_position": null,
       "order": null,
       "overflow": null,
       "overflow_x": null,
       "overflow_y": null,
       "padding": null,
       "right": null,
       "top": null,
       "visibility": null,
       "width": null
      }
     },
     "4d05d94d25c64f5fb08b9645f2eef7d4": {
      "model_module": "@jupyter-widgets/base",
      "model_module_version": "1.2.0",
      "model_name": "LayoutModel",
      "state": {
       "_model_module": "@jupyter-widgets/base",
       "_model_module_version": "1.2.0",
       "_model_name": "LayoutModel",
       "_view_count": null,
       "_view_module": "@jupyter-widgets/base",
       "_view_module_version": "1.2.0",
       "_view_name": "LayoutView",
       "align_content": null,
       "align_items": null,
       "align_self": null,
       "border": null,
       "bottom": null,
       "display": null,
       "flex": null,
       "flex_flow": null,
       "grid_area": null,
       "grid_auto_columns": null,
       "grid_auto_flow": null,
       "grid_auto_rows": null,
       "grid_column": null,
       "grid_gap": null,
       "grid_row": null,
       "grid_template_areas": null,
       "grid_template_columns": null,
       "grid_template_rows": null,
       "height": null,
       "justify_content": null,
       "justify_items": null,
       "left": null,
       "margin": null,
       "max_height": null,
       "max_width": null,
       "min_height": null,
       "min_width": null,
       "object_fit": null,
       "object_position": null,
       "order": null,
       "overflow": null,
       "overflow_x": null,
       "overflow_y": null,
       "padding": null,
       "right": null,
       "top": null,
       "visibility": null,
       "width": null
      }
     },
     "4e625fbf8c7742239ce43ca8b4cf0223": {
      "model_module": "@jupyter-widgets/controls",
      "model_module_version": "1.5.0",
      "model_name": "DescriptionStyleModel",
      "state": {
       "_model_module": "@jupyter-widgets/controls",
       "_model_module_version": "1.5.0",
       "_model_name": "DescriptionStyleModel",
       "_view_count": null,
       "_view_module": "@jupyter-widgets/base",
       "_view_module_version": "1.2.0",
       "_view_name": "StyleView",
       "description_width": ""
      }
     },
     "589cabb93fa24f7f8e5b0d0c616cc883": {
      "model_module": "@jupyter-widgets/base",
      "model_module_version": "1.2.0",
      "model_name": "LayoutModel",
      "state": {
       "_model_module": "@jupyter-widgets/base",
       "_model_module_version": "1.2.0",
       "_model_name": "LayoutModel",
       "_view_count": null,
       "_view_module": "@jupyter-widgets/base",
       "_view_module_version": "1.2.0",
       "_view_name": "LayoutView",
       "align_content": null,
       "align_items": null,
       "align_self": null,
       "border": null,
       "bottom": null,
       "display": null,
       "flex": null,
       "flex_flow": null,
       "grid_area": null,
       "grid_auto_columns": null,
       "grid_auto_flow": null,
       "grid_auto_rows": null,
       "grid_column": null,
       "grid_gap": null,
       "grid_row": null,
       "grid_template_areas": null,
       "grid_template_columns": null,
       "grid_template_rows": null,
       "height": null,
       "justify_content": null,
       "justify_items": null,
       "left": null,
       "margin": null,
       "max_height": null,
       "max_width": null,
       "min_height": null,
       "min_width": null,
       "object_fit": null,
       "object_position": null,
       "order": null,
       "overflow": null,
       "overflow_x": null,
       "overflow_y": null,
       "padding": null,
       "right": null,
       "top": null,
       "visibility": null,
       "width": null
      }
     },
     "5c5b70d0413c48c18ce8d05f95538819": {
      "model_module": "@jupyter-widgets/controls",
      "model_module_version": "1.5.0",
      "model_name": "HTMLModel",
      "state": {
       "_dom_classes": [],
       "_model_module": "@jupyter-widgets/controls",
       "_model_module_version": "1.5.0",
       "_model_name": "HTMLModel",
       "_view_count": null,
       "_view_module": "@jupyter-widgets/controls",
       "_view_module_version": "1.5.0",
       "_view_name": "HTMLView",
       "description": "",
       "description_tooltip": null,
       "layout": "IPY_MODEL_78a35ec4771342a3bdf5a4ccb0f849e5",
       "placeholder": "​",
       "style": "IPY_MODEL_b089b856edd6434cb6265d0d5d07dca8",
       "value": " 1/1 [00:06&lt;00:00,  6.37s/it]"
      }
     },
     "5cb904d258f84c1d937bee71baec1dac": {
      "model_module": "@jupyter-widgets/controls",
      "model_module_version": "1.5.0",
      "model_name": "FloatProgressModel",
      "state": {
       "_dom_classes": [],
       "_model_module": "@jupyter-widgets/controls",
       "_model_module_version": "1.5.0",
       "_model_name": "FloatProgressModel",
       "_view_count": null,
       "_view_module": "@jupyter-widgets/controls",
       "_view_module_version": "1.5.0",
       "_view_name": "ProgressView",
       "bar_style": "success",
       "description": "",
       "description_tooltip": null,
       "layout": "IPY_MODEL_589cabb93fa24f7f8e5b0d0c616cc883",
       "max": 1,
       "min": 0,
       "orientation": "horizontal",
       "style": "IPY_MODEL_de22bf14b07746919d0252b8ac04eac7",
       "value": 1
      }
     },
     "78a35ec4771342a3bdf5a4ccb0f849e5": {
      "model_module": "@jupyter-widgets/base",
      "model_module_version": "1.2.0",
      "model_name": "LayoutModel",
      "state": {
       "_model_module": "@jupyter-widgets/base",
       "_model_module_version": "1.2.0",
       "_model_name": "LayoutModel",
       "_view_count": null,
       "_view_module": "@jupyter-widgets/base",
       "_view_module_version": "1.2.0",
       "_view_name": "LayoutView",
       "align_content": null,
       "align_items": null,
       "align_self": null,
       "border": null,
       "bottom": null,
       "display": null,
       "flex": null,
       "flex_flow": null,
       "grid_area": null,
       "grid_auto_columns": null,
       "grid_auto_flow": null,
       "grid_auto_rows": null,
       "grid_column": null,
       "grid_gap": null,
       "grid_row": null,
       "grid_template_areas": null,
       "grid_template_columns": null,
       "grid_template_rows": null,
       "height": null,
       "justify_content": null,
       "justify_items": null,
       "left": null,
       "margin": null,
       "max_height": null,
       "max_width": null,
       "min_height": null,
       "min_width": null,
       "object_fit": null,
       "object_position": null,
       "order": null,
       "overflow": null,
       "overflow_x": null,
       "overflow_y": null,
       "padding": null,
       "right": null,
       "top": null,
       "visibility": null,
       "width": null
      }
     },
     "8ae4944336a745e0bb1304a323a36036": {
      "model_module": "@jupyter-widgets/controls",
      "model_module_version": "1.5.0",
      "model_name": "FloatProgressModel",
      "state": {
       "_dom_classes": [],
       "_model_module": "@jupyter-widgets/controls",
       "_model_module_version": "1.5.0",
       "_model_name": "FloatProgressModel",
       "_view_count": null,
       "_view_module": "@jupyter-widgets/controls",
       "_view_module_version": "1.5.0",
       "_view_name": "ProgressView",
       "bar_style": "success",
       "description": "",
       "description_tooltip": null,
       "layout": "IPY_MODEL_97ba9ca85f8746989a12162ced4170e3",
       "max": 26,
       "min": 0,
       "orientation": "horizontal",
       "style": "IPY_MODEL_def64e6e723940cea23051226e137ba3",
       "value": 26
      }
     },
     "8bc62fe30c8b458e9d6027bff6fe29df": {
      "model_module": "@jupyter-widgets/base",
      "model_module_version": "1.2.0",
      "model_name": "LayoutModel",
      "state": {
       "_model_module": "@jupyter-widgets/base",
       "_model_module_version": "1.2.0",
       "_model_name": "LayoutModel",
       "_view_count": null,
       "_view_module": "@jupyter-widgets/base",
       "_view_module_version": "1.2.0",
       "_view_name": "LayoutView",
       "align_content": null,
       "align_items": null,
       "align_self": null,
       "border": null,
       "bottom": null,
       "display": null,
       "flex": null,
       "flex_flow": null,
       "grid_area": null,
       "grid_auto_columns": null,
       "grid_auto_flow": null,
       "grid_auto_rows": null,
       "grid_column": null,
       "grid_gap": null,
       "grid_row": null,
       "grid_template_areas": null,
       "grid_template_columns": null,
       "grid_template_rows": null,
       "height": null,
       "justify_content": null,
       "justify_items": null,
       "left": null,
       "margin": null,
       "max_height": null,
       "max_width": null,
       "min_height": null,
       "min_width": null,
       "object_fit": null,
       "object_position": null,
       "order": null,
       "overflow": null,
       "overflow_x": null,
       "overflow_y": null,
       "padding": null,
       "right": null,
       "top": null,
       "visibility": null,
       "width": null
      }
     },
     "92ae3071403c4308a5138bafe5ad126f": {
      "model_module": "@jupyter-widgets/controls",
      "model_module_version": "1.5.0",
      "model_name": "DescriptionStyleModel",
      "state": {
       "_model_module": "@jupyter-widgets/controls",
       "_model_module_version": "1.5.0",
       "_model_name": "DescriptionStyleModel",
       "_view_count": null,
       "_view_module": "@jupyter-widgets/base",
       "_view_module_version": "1.2.0",
       "_view_name": "StyleView",
       "description_width": ""
      }
     },
     "93ac03ab8e5943fba56ccd8dcf50dcf5": {
      "model_module": "@jupyter-widgets/controls",
      "model_module_version": "1.5.0",
      "model_name": "DescriptionStyleModel",
      "state": {
       "_model_module": "@jupyter-widgets/controls",
       "_model_module_version": "1.5.0",
       "_model_name": "DescriptionStyleModel",
       "_view_count": null,
       "_view_module": "@jupyter-widgets/base",
       "_view_module_version": "1.2.0",
       "_view_name": "StyleView",
       "description_width": ""
      }
     },
     "95830f3051074df0931a961e838e8e18": {
      "model_module": "@jupyter-widgets/base",
      "model_module_version": "1.2.0",
      "model_name": "LayoutModel",
      "state": {
       "_model_module": "@jupyter-widgets/base",
       "_model_module_version": "1.2.0",
       "_model_name": "LayoutModel",
       "_view_count": null,
       "_view_module": "@jupyter-widgets/base",
       "_view_module_version": "1.2.0",
       "_view_name": "LayoutView",
       "align_content": null,
       "align_items": null,
       "align_self": null,
       "border": null,
       "bottom": null,
       "display": null,
       "flex": null,
       "flex_flow": null,
       "grid_area": null,
       "grid_auto_columns": null,
       "grid_auto_flow": null,
       "grid_auto_rows": null,
       "grid_column": null,
       "grid_gap": null,
       "grid_row": null,
       "grid_template_areas": null,
       "grid_template_columns": null,
       "grid_template_rows": null,
       "height": null,
       "justify_content": null,
       "justify_items": null,
       "left": null,
       "margin": null,
       "max_height": null,
       "max_width": null,
       "min_height": null,
       "min_width": null,
       "object_fit": null,
       "object_position": null,
       "order": null,
       "overflow": null,
       "overflow_x": null,
       "overflow_y": null,
       "padding": null,
       "right": null,
       "top": null,
       "visibility": null,
       "width": null
      }
     },
     "97ba9ca85f8746989a12162ced4170e3": {
      "model_module": "@jupyter-widgets/base",
      "model_module_version": "1.2.0",
      "model_name": "LayoutModel",
      "state": {
       "_model_module": "@jupyter-widgets/base",
       "_model_module_version": "1.2.0",
       "_model_name": "LayoutModel",
       "_view_count": null,
       "_view_module": "@jupyter-widgets/base",
       "_view_module_version": "1.2.0",
       "_view_name": "LayoutView",
       "align_content": null,
       "align_items": null,
       "align_self": null,
       "border": null,
       "bottom": null,
       "display": null,
       "flex": null,
       "flex_flow": null,
       "grid_area": null,
       "grid_auto_columns": null,
       "grid_auto_flow": null,
       "grid_auto_rows": null,
       "grid_column": null,
       "grid_gap": null,
       "grid_row": null,
       "grid_template_areas": null,
       "grid_template_columns": null,
       "grid_template_rows": null,
       "height": null,
       "justify_content": null,
       "justify_items": null,
       "left": null,
       "margin": null,
       "max_height": null,
       "max_width": null,
       "min_height": null,
       "min_width": null,
       "object_fit": null,
       "object_position": null,
       "order": null,
       "overflow": null,
       "overflow_x": null,
       "overflow_y": null,
       "padding": null,
       "right": null,
       "top": null,
       "visibility": null,
       "width": null
      }
     },
     "98ad9012659d4259a8ed0a4b06dabd78": {
      "model_module": "@jupyter-widgets/base",
      "model_module_version": "1.2.0",
      "model_name": "LayoutModel",
      "state": {
       "_model_module": "@jupyter-widgets/base",
       "_model_module_version": "1.2.0",
       "_model_name": "LayoutModel",
       "_view_count": null,
       "_view_module": "@jupyter-widgets/base",
       "_view_module_version": "1.2.0",
       "_view_name": "LayoutView",
       "align_content": null,
       "align_items": null,
       "align_self": null,
       "border": null,
       "bottom": null,
       "display": null,
       "flex": null,
       "flex_flow": null,
       "grid_area": null,
       "grid_auto_columns": null,
       "grid_auto_flow": null,
       "grid_auto_rows": null,
       "grid_column": null,
       "grid_gap": null,
       "grid_row": null,
       "grid_template_areas": null,
       "grid_template_columns": null,
       "grid_template_rows": null,
       "height": null,
       "justify_content": null,
       "justify_items": null,
       "left": null,
       "margin": null,
       "max_height": null,
       "max_width": null,
       "min_height": null,
       "min_width": null,
       "object_fit": null,
       "object_position": null,
       "order": null,
       "overflow": null,
       "overflow_x": null,
       "overflow_y": null,
       "padding": null,
       "right": null,
       "top": null,
       "visibility": null,
       "width": null
      }
     },
     "9941ee2e7cf14c36b009aba63e915192": {
      "model_module": "@jupyter-widgets/base",
      "model_module_version": "1.2.0",
      "model_name": "LayoutModel",
      "state": {
       "_model_module": "@jupyter-widgets/base",
       "_model_module_version": "1.2.0",
       "_model_name": "LayoutModel",
       "_view_count": null,
       "_view_module": "@jupyter-widgets/base",
       "_view_module_version": "1.2.0",
       "_view_name": "LayoutView",
       "align_content": null,
       "align_items": null,
       "align_self": null,
       "border": null,
       "bottom": null,
       "display": null,
       "flex": null,
       "flex_flow": null,
       "grid_area": null,
       "grid_auto_columns": null,
       "grid_auto_flow": null,
       "grid_auto_rows": null,
       "grid_column": null,
       "grid_gap": null,
       "grid_row": null,
       "grid_template_areas": null,
       "grid_template_columns": null,
       "grid_template_rows": null,
       "height": null,
       "justify_content": null,
       "justify_items": null,
       "left": null,
       "margin": null,
       "max_height": null,
       "max_width": null,
       "min_height": null,
       "min_width": null,
       "object_fit": null,
       "object_position": null,
       "order": null,
       "overflow": null,
       "overflow_x": null,
       "overflow_y": null,
       "padding": null,
       "right": null,
       "top": null,
       "visibility": null,
       "width": null
      }
     },
     "9a07d09ff6fd4b68a9db91c1d0cb4a1a": {
      "model_module": "@jupyter-widgets/controls",
      "model_module_version": "1.5.0",
      "model_name": "HBoxModel",
      "state": {
       "_dom_classes": [],
       "_model_module": "@jupyter-widgets/controls",
       "_model_module_version": "1.5.0",
       "_model_name": "HBoxModel",
       "_view_count": null,
       "_view_module": "@jupyter-widgets/controls",
       "_view_module_version": "1.5.0",
       "_view_name": "HBoxView",
       "box_style": "",
       "children": [
        "IPY_MODEL_d1ccbfb31067442fbb72c5451fc437cd",
        "IPY_MODEL_ae18783dcf164fd2be7ae779d53b513c",
        "IPY_MODEL_5c5b70d0413c48c18ce8d05f95538819"
       ],
       "layout": "IPY_MODEL_415f8f8e892b4841bb96affe35352aab"
      }
     },
     "9e98f5f22a4b4769a5c608f6c991fdd9": {
      "model_module": "@jupyter-widgets/base",
      "model_module_version": "1.2.0",
      "model_name": "LayoutModel",
      "state": {
       "_model_module": "@jupyter-widgets/base",
       "_model_module_version": "1.2.0",
       "_model_name": "LayoutModel",
       "_view_count": null,
       "_view_module": "@jupyter-widgets/base",
       "_view_module_version": "1.2.0",
       "_view_name": "LayoutView",
       "align_content": null,
       "align_items": null,
       "align_self": null,
       "border": null,
       "bottom": null,
       "display": null,
       "flex": null,
       "flex_flow": null,
       "grid_area": null,
       "grid_auto_columns": null,
       "grid_auto_flow": null,
       "grid_auto_rows": null,
       "grid_column": null,
       "grid_gap": null,
       "grid_row": null,
       "grid_template_areas": null,
       "grid_template_columns": null,
       "grid_template_rows": null,
       "height": null,
       "justify_content": null,
       "justify_items": null,
       "left": null,
       "margin": null,
       "max_height": null,
       "max_width": null,
       "min_height": null,
       "min_width": null,
       "object_fit": null,
       "object_position": null,
       "order": null,
       "overflow": null,
       "overflow_x": null,
       "overflow_y": null,
       "padding": null,
       "right": null,
       "top": null,
       "visibility": null,
       "width": null
      }
     },
     "ae18783dcf164fd2be7ae779d53b513c": {
      "model_module": "@jupyter-widgets/controls",
      "model_module_version": "1.5.0",
      "model_name": "FloatProgressModel",
      "state": {
       "_dom_classes": [],
       "_model_module": "@jupyter-widgets/controls",
       "_model_module_version": "1.5.0",
       "_model_name": "FloatProgressModel",
       "_view_count": null,
       "_view_module": "@jupyter-widgets/controls",
       "_view_module_version": "1.5.0",
       "_view_name": "ProgressView",
       "bar_style": "success",
       "description": "",
       "description_tooltip": null,
       "layout": "IPY_MODEL_4a3558aaa1e4475880f73655fb521280",
       "max": 1,
       "min": 0,
       "orientation": "horizontal",
       "style": "IPY_MODEL_facb6debd17a44d3b025028e046e0f3c",
       "value": 1
      }
     },
     "b089b856edd6434cb6265d0d5d07dca8": {
      "model_module": "@jupyter-widgets/controls",
      "model_module_version": "1.5.0",
      "model_name": "DescriptionStyleModel",
      "state": {
       "_model_module": "@jupyter-widgets/controls",
       "_model_module_version": "1.5.0",
       "_model_name": "DescriptionStyleModel",
       "_view_count": null,
       "_view_module": "@jupyter-widgets/base",
       "_view_module_version": "1.2.0",
       "_view_name": "StyleView",
       "description_width": ""
      }
     },
     "b8346150e6894fb29cd653bd7668c13e": {
      "model_module": "@jupyter-widgets/controls",
      "model_module_version": "1.5.0",
      "model_name": "HBoxModel",
      "state": {
       "_dom_classes": [],
       "_model_module": "@jupyter-widgets/controls",
       "_model_module_version": "1.5.0",
       "_model_name": "HBoxModel",
       "_view_count": null,
       "_view_module": "@jupyter-widgets/controls",
       "_view_module_version": "1.5.0",
       "_view_name": "HBoxView",
       "box_style": "",
       "children": [
        "IPY_MODEL_f9b5b6dc94034c5281f27309002dbadf",
        "IPY_MODEL_8ae4944336a745e0bb1304a323a36036",
        "IPY_MODEL_2fe827638aea4cd9a445871b62c4c9a5"
       ],
       "layout": "IPY_MODEL_cd5530d524484dfc8d0fd4be8a30e571"
      }
     },
     "ba408d6ce4ae4bbe9c44888514c84550": {
      "model_module": "@jupyter-widgets/controls",
      "model_module_version": "1.5.0",
      "model_name": "HTMLModel",
      "state": {
       "_dom_classes": [],
       "_model_module": "@jupyter-widgets/controls",
       "_model_module_version": "1.5.0",
       "_model_name": "HTMLModel",
       "_view_count": null,
       "_view_module": "@jupyter-widgets/controls",
       "_view_module_version": "1.5.0",
       "_view_name": "HTMLView",
       "description": "",
       "description_tooltip": null,
       "layout": "IPY_MODEL_8bc62fe30c8b458e9d6027bff6fe29df",
       "placeholder": "​",
       "style": "IPY_MODEL_28306636e68a499393d0cc98b4a8ead3",
       "value": " 1/1 [00:00&lt;00:00, 32.57it/s]"
      }
     },
     "bb00420e27fe427aa1ad8ff57b7d55a0": {
      "model_module": "@jupyter-widgets/base",
      "model_module_version": "1.2.0",
      "model_name": "LayoutModel",
      "state": {
       "_model_module": "@jupyter-widgets/base",
       "_model_module_version": "1.2.0",
       "_model_name": "LayoutModel",
       "_view_count": null,
       "_view_module": "@jupyter-widgets/base",
       "_view_module_version": "1.2.0",
       "_view_name": "LayoutView",
       "align_content": null,
       "align_items": null,
       "align_self": null,
       "border": null,
       "bottom": null,
       "display": null,
       "flex": null,
       "flex_flow": null,
       "grid_area": null,
       "grid_auto_columns": null,
       "grid_auto_flow": null,
       "grid_auto_rows": null,
       "grid_column": null,
       "grid_gap": null,
       "grid_row": null,
       "grid_template_areas": null,
       "grid_template_columns": null,
       "grid_template_rows": null,
       "height": null,
       "justify_content": null,
       "justify_items": null,
       "left": null,
       "margin": null,
       "max_height": null,
       "max_width": null,
       "min_height": null,
       "min_width": null,
       "object_fit": null,
       "object_position": null,
       "order": null,
       "overflow": null,
       "overflow_x": null,
       "overflow_y": null,
       "padding": null,
       "right": null,
       "top": null,
       "visibility": null,
       "width": null
      }
     },
     "ca277b7c301149f1b742af28a1dbf5ed": {
      "model_module": "@jupyter-widgets/controls",
      "model_module_version": "1.5.0",
      "model_name": "HTMLModel",
      "state": {
       "_dom_classes": [],
       "_model_module": "@jupyter-widgets/controls",
       "_model_module_version": "1.5.0",
       "_model_name": "HTMLModel",
       "_view_count": null,
       "_view_module": "@jupyter-widgets/controls",
       "_view_module_version": "1.5.0",
       "_view_name": "HTMLView",
       "description": "",
       "description_tooltip": null,
       "layout": "IPY_MODEL_9e98f5f22a4b4769a5c608f6c991fdd9",
       "placeholder": "​",
       "style": "IPY_MODEL_4e625fbf8c7742239ce43ca8b4cf0223",
       "value": "Export report to file: 100%"
      }
     },
     "cd5530d524484dfc8d0fd4be8a30e571": {
      "model_module": "@jupyter-widgets/base",
      "model_module_version": "1.2.0",
      "model_name": "LayoutModel",
      "state": {
       "_model_module": "@jupyter-widgets/base",
       "_model_module_version": "1.2.0",
       "_model_name": "LayoutModel",
       "_view_count": null,
       "_view_module": "@jupyter-widgets/base",
       "_view_module_version": "1.2.0",
       "_view_name": "LayoutView",
       "align_content": null,
       "align_items": null,
       "align_self": null,
       "border": null,
       "bottom": null,
       "display": null,
       "flex": null,
       "flex_flow": null,
       "grid_area": null,
       "grid_auto_columns": null,
       "grid_auto_flow": null,
       "grid_auto_rows": null,
       "grid_column": null,
       "grid_gap": null,
       "grid_row": null,
       "grid_template_areas": null,
       "grid_template_columns": null,
       "grid_template_rows": null,
       "height": null,
       "justify_content": null,
       "justify_items": null,
       "left": null,
       "margin": null,
       "max_height": null,
       "max_width": null,
       "min_height": null,
       "min_width": null,
       "object_fit": null,
       "object_position": null,
       "order": null,
       "overflow": null,
       "overflow_x": null,
       "overflow_y": null,
       "padding": null,
       "right": null,
       "top": null,
       "visibility": null,
       "width": null
      }
     },
     "d132f1a89ecc43b2a49ff4f355164ae4": {
      "model_module": "@jupyter-widgets/controls",
      "model_module_version": "1.5.0",
      "model_name": "DescriptionStyleModel",
      "state": {
       "_model_module": "@jupyter-widgets/controls",
       "_model_module_version": "1.5.0",
       "_model_name": "DescriptionStyleModel",
       "_view_count": null,
       "_view_module": "@jupyter-widgets/base",
       "_view_module_version": "1.2.0",
       "_view_name": "StyleView",
       "description_width": ""
      }
     },
     "d1ccbfb31067442fbb72c5451fc437cd": {
      "model_module": "@jupyter-widgets/controls",
      "model_module_version": "1.5.0",
      "model_name": "HTMLModel",
      "state": {
       "_dom_classes": [],
       "_model_module": "@jupyter-widgets/controls",
       "_model_module_version": "1.5.0",
       "_model_name": "HTMLModel",
       "_view_count": null,
       "_view_module": "@jupyter-widgets/controls",
       "_view_module_version": "1.5.0",
       "_view_name": "HTMLView",
       "description": "",
       "description_tooltip": null,
       "layout": "IPY_MODEL_9941ee2e7cf14c36b009aba63e915192",
       "placeholder": "​",
       "style": "IPY_MODEL_93ac03ab8e5943fba56ccd8dcf50dcf5",
       "value": "Generate report structure: 100%"
      }
     },
     "d6aaa82e9d784618965382921627e148": {
      "model_module": "@jupyter-widgets/controls",
      "model_module_version": "1.5.0",
      "model_name": "HBoxModel",
      "state": {
       "_dom_classes": [],
       "_model_module": "@jupyter-widgets/controls",
       "_model_module_version": "1.5.0",
       "_model_name": "HBoxModel",
       "_view_count": null,
       "_view_module": "@jupyter-widgets/controls",
       "_view_module_version": "1.5.0",
       "_view_name": "HBoxView",
       "box_style": "",
       "children": [
        "IPY_MODEL_ca277b7c301149f1b742af28a1dbf5ed",
        "IPY_MODEL_32ed587965714f508c868f0a7d3b2b90",
        "IPY_MODEL_ba408d6ce4ae4bbe9c44888514c84550"
       ],
       "layout": "IPY_MODEL_95830f3051074df0931a961e838e8e18"
      }
     },
     "de22bf14b07746919d0252b8ac04eac7": {
      "model_module": "@jupyter-widgets/controls",
      "model_module_version": "1.5.0",
      "model_name": "ProgressStyleModel",
      "state": {
       "_model_module": "@jupyter-widgets/controls",
       "_model_module_version": "1.5.0",
       "_model_name": "ProgressStyleModel",
       "_view_count": null,
       "_view_module": "@jupyter-widgets/base",
       "_view_module_version": "1.2.0",
       "_view_name": "StyleView",
       "bar_color": null,
       "description_width": ""
      }
     },
     "def64e6e723940cea23051226e137ba3": {
      "model_module": "@jupyter-widgets/controls",
      "model_module_version": "1.5.0",
      "model_name": "ProgressStyleModel",
      "state": {
       "_model_module": "@jupyter-widgets/controls",
       "_model_module_version": "1.5.0",
       "_model_name": "ProgressStyleModel",
       "_view_count": null,
       "_view_module": "@jupyter-widgets/base",
       "_view_module_version": "1.2.0",
       "_view_name": "StyleView",
       "bar_color": null,
       "description_width": ""
      }
     },
     "f22b5739beb348eab70f6b335c223edb": {
      "model_module": "@jupyter-widgets/controls",
      "model_module_version": "1.5.0",
      "model_name": "DescriptionStyleModel",
      "state": {
       "_model_module": "@jupyter-widgets/controls",
       "_model_module_version": "1.5.0",
       "_model_name": "DescriptionStyleModel",
       "_view_count": null,
       "_view_module": "@jupyter-widgets/base",
       "_view_module_version": "1.2.0",
       "_view_name": "StyleView",
       "description_width": ""
      }
     },
     "f3240b57ca2c41a98bfd05f3c6d47162": {
      "model_module": "@jupyter-widgets/controls",
      "model_module_version": "1.5.0",
      "model_name": "HTMLModel",
      "state": {
       "_dom_classes": [],
       "_model_module": "@jupyter-widgets/controls",
       "_model_module_version": "1.5.0",
       "_model_name": "HTMLModel",
       "_view_count": null,
       "_view_module": "@jupyter-widgets/controls",
       "_view_module_version": "1.5.0",
       "_view_name": "HTMLView",
       "description": "",
       "description_tooltip": null,
       "layout": "IPY_MODEL_465200a8e7834c06a6b28940ba188055",
       "placeholder": "​",
       "style": "IPY_MODEL_36f67f8fbc194d6da536afb383e159d7",
       "value": "Render HTML: 100%"
      }
     },
     "f9b5b6dc94034c5281f27309002dbadf": {
      "model_module": "@jupyter-widgets/controls",
      "model_module_version": "1.5.0",
      "model_name": "HTMLModel",
      "state": {
       "_dom_classes": [],
       "_model_module": "@jupyter-widgets/controls",
       "_model_module_version": "1.5.0",
       "_model_name": "HTMLModel",
       "_view_count": null,
       "_view_module": "@jupyter-widgets/controls",
       "_view_module_version": "1.5.0",
       "_view_name": "HTMLView",
       "description": "",
       "description_tooltip": null,
       "layout": "IPY_MODEL_98ad9012659d4259a8ed0a4b06dabd78",
       "placeholder": "​",
       "style": "IPY_MODEL_f22b5739beb348eab70f6b335c223edb",
       "value": "Summarize dataset: 100%"
      }
     },
     "facb6debd17a44d3b025028e046e0f3c": {
      "model_module": "@jupyter-widgets/controls",
      "model_module_version": "1.5.0",
      "model_name": "ProgressStyleModel",
      "state": {
       "_model_module": "@jupyter-widgets/controls",
       "_model_module_version": "1.5.0",
       "_model_name": "ProgressStyleModel",
       "_view_count": null,
       "_view_module": "@jupyter-widgets/base",
       "_view_module_version": "1.2.0",
       "_view_name": "StyleView",
       "bar_color": null,
       "description_width": ""
      }
     }
    },
    "version_major": 2,
    "version_minor": 0
   }
  }
 },
 "nbformat": 4,
 "nbformat_minor": 5
}
